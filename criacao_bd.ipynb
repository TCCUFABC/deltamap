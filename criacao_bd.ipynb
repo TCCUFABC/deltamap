{
  "nbformat": 4,
  "nbformat_minor": 0,
  "metadata": {
    "colab": {
      "provenance": [],
      "authorship_tag": "ABX9TyNz2+v1R75hR6AWhu8HffN5",
      "include_colab_link": true
    },
    "kernelspec": {
      "name": "python3",
      "display_name": "Python 3"
    },
    "language_info": {
      "name": "python"
    }
  },
  "cells": [
    {
      "cell_type": "markdown",
      "metadata": {
        "id": "view-in-github",
        "colab_type": "text"
      },
      "source": [
        "<a href=\"https://colab.research.google.com/github/TCCUFABC/deltamap/blob/main/criacao_bd.ipynb\" target=\"_parent\"><img src=\"https://colab.research.google.com/assets/colab-badge.svg\" alt=\"Open In Colab\"/></a>"
      ]
    },
    {
      "cell_type": "code",
      "execution_count": null,
      "metadata": {
        "id": "TM3_dH5nx5xp",
        "colab": {
          "base_uri": "https://localhost:8080/"
        },
        "outputId": "eb435464-4436-4c57-cb1d-927c39e8a599"
      },
      "outputs": [
        {
          "output_type": "stream",
          "name": "stdout",
          "text": [
            "Teste de atualização no GitHub a partir do Google Colab!\n"
          ]
        }
      ],
      "source": [
        "print(\"Teste de atualização no GitHub a partir do Google Colab!\")\n"
      ]
    },
    {
      "cell_type": "code",
      "source": [],
      "metadata": {
        "id": "cW9tUUeG1j9g"
      },
      "execution_count": null,
      "outputs": []
    }
  ]
}