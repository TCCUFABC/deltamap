{
  "nbformat": 4,
  "nbformat_minor": 0,
  "metadata": {
    "colab": {
      "provenance": [],
      "authorship_tag": "ABX9TyOUJKa9UcQBtGMpXiPWj77E",
      "include_colab_link": true
    },
    "kernelspec": {
      "name": "python3",
      "display_name": "Python 3"
    },
    "language_info": {
      "name": "python"
    }
  },
  "cells": [
    {
      "cell_type": "markdown",
      "metadata": {
        "id": "view-in-github",
        "colab_type": "text"
      },
      "source": [
        "<a href=\"https://colab.research.google.com/github/TCCUFABC/deltamap/blob/main/criacao_bd.ipynb\" target=\"_parent\"><img src=\"https://colab.research.google.com/assets/colab-badge.svg\" alt=\"Open In Colab\"/></a>"
      ]
    },
    {
      "cell_type": "code",
      "execution_count": null,
      "metadata": {
        "id": "TM3_dH5nx5xp",
        "colab": {
          "base_uri": "https://localhost:8080/"
        },
        "outputId": "eb435464-4436-4c57-cb1d-927c39e8a599"
      },
      "outputs": [
        {
          "output_type": "stream",
          "name": "stdout",
          "text": [
            "Teste de atualização no GitHub a partir do Google Colab!\n"
          ]
        }
      ],
      "source": [
        "print(\"Teste de atualização no GitHub a partir do Google Colab!\")\n"
      ]
    },
    {
      "cell_type": "code",
      "source": [
        "# Instalar PostgreSQL e PostGIS\n",
        "!apt-get install postgresql postgis -y\n",
        "\n",
        "# Iniciar o serviço do PostgreSQL\n",
        "!service postgresql start\n",
        "\n",
        "# Criar um banco de dados para o projeto\n",
        "!sudo -u postgres createdb deltadb\n",
        "\n",
        "# Ativar a extensão PostGIS\n",
        "!sudo -u postgres psql -d deltadb -c \"CREATE EXTENSION postgis;\"\n",
        "\n",
        "print(\"Banco de dados 'deltadb' criado e PostGIS ativado com sucesso!\")\n"
      ],
      "metadata": {
        "id": "cW9tUUeG1j9g",
        "colab": {
          "base_uri": "https://localhost:8080/"
        },
        "outputId": "d11ec52e-7910-4bb9-d9dd-1620088c7f5f"
      },
      "execution_count": null,
      "outputs": [
        {
          "output_type": "stream",
          "name": "stdout",
          "text": [
            "Reading package lists... Done\n",
            "Building dependency tree... Done\n",
            "Reading state information... Done\n",
            "The following additional packages will be installed:\n",
            "  libcommon-sense-perl libgmpxx4ldbl libjson-perl libjson-xs-perl libprotobuf-c1 libsfcgal1\n",
            "  libtypes-serialiser-perl logrotate netbase postgis-doc postgresql-14 postgresql-14-postgis-3\n",
            "  postgresql-14-postgis-3-scripts postgresql-client-14 postgresql-client-common postgresql-common\n",
            "  postgresql-postgis postgresql-postgis-scripts ssl-cert sysstat\n",
            "Suggested packages:\n",
            "  bsd-mailx | mailx postgresql-doc postgresql-doc-14 isag\n",
            "The following NEW packages will be installed:\n",
            "  libcommon-sense-perl libgmpxx4ldbl libjson-perl libjson-xs-perl libprotobuf-c1 libsfcgal1\n",
            "  libtypes-serialiser-perl logrotate netbase postgis postgis-doc postgresql postgresql-14\n",
            "  postgresql-14-postgis-3 postgresql-14-postgis-3-scripts postgresql-client-14\n",
            "  postgresql-client-common postgresql-common postgresql-postgis postgresql-postgis-scripts ssl-cert\n",
            "  sysstat\n",
            "0 upgraded, 22 newly installed, 0 to remove and 20 not upgraded.\n",
            "Need to get 28.7 MB of archives.\n",
            "After this operation, 123 MB of additional disk space will be used.\n",
            "Get:1 http://archive.ubuntu.com/ubuntu jammy-updates/main amd64 logrotate amd64 3.19.0-1ubuntu1.1 [54.3 kB]\n",
            "Get:2 http://archive.ubuntu.com/ubuntu jammy/main amd64 netbase all 6.3 [12.9 kB]\n",
            "Get:3 http://archive.ubuntu.com/ubuntu jammy/main amd64 libcommon-sense-perl amd64 3.75-2build1 [21.1 kB]\n",
            "Get:4 http://archive.ubuntu.com/ubuntu jammy/main amd64 libgmpxx4ldbl amd64 2:6.2.1+dfsg-3ubuntu1 [9,580 B]\n",
            "Get:5 http://archive.ubuntu.com/ubuntu jammy/main amd64 libjson-perl all 4.04000-1 [81.8 kB]\n",
            "Get:6 http://archive.ubuntu.com/ubuntu jammy/main amd64 libtypes-serialiser-perl all 1.01-1 [11.6 kB]\n",
            "Get:7 http://archive.ubuntu.com/ubuntu jammy/main amd64 libjson-xs-perl amd64 4.030-1build3 [87.2 kB]\n",
            "Get:8 http://archive.ubuntu.com/ubuntu jammy-updates/main amd64 libprotobuf-c1 amd64 1.3.3-1ubuntu2.1 [20.3 kB]\n",
            "Get:9 http://archive.ubuntu.com/ubuntu jammy/universe amd64 libsfcgal1 amd64 1.4.1-1 [2,179 kB]\n",
            "Get:10 http://archive.ubuntu.com/ubuntu jammy/main amd64 postgresql-client-common all 238 [29.6 kB]\n",
            "Get:11 http://archive.ubuntu.com/ubuntu jammy-updates/main amd64 postgresql-client-14 amd64 14.15-0ubuntu0.22.04.1 [1,225 kB]\n",
            "Get:12 https://ppa.launchpadcontent.net/ubuntugis/ppa/ubuntu jammy/main amd64 postgis amd64 3.4.0+dfsg-3~jammy0 [188 kB]\n",
            "Get:13 http://archive.ubuntu.com/ubuntu jammy/main amd64 ssl-cert all 1.1.2 [17.4 kB]\n",
            "Get:14 http://archive.ubuntu.com/ubuntu jammy/main amd64 postgresql-common all 238 [169 kB]\n",
            "Get:15 http://archive.ubuntu.com/ubuntu jammy-updates/main amd64 postgresql-14 amd64 14.15-0ubuntu0.22.04.1 [16.2 MB]\n",
            "Get:16 http://archive.ubuntu.com/ubuntu jammy/main amd64 postgresql all 14+238 [3,288 B]\n",
            "Get:17 http://archive.ubuntu.com/ubuntu jammy-updates/main amd64 sysstat amd64 12.5.2-2ubuntu0.2 [487 kB]\n",
            "Get:18 https://ppa.launchpadcontent.net/ubuntugis/ppa/ubuntu jammy/main amd64 postgis-doc all 3.4.0+dfsg-3~jammy0 [2,933 kB]\n",
            "Get:19 https://ppa.launchpadcontent.net/ubuntugis/ppa/ubuntu jammy/main amd64 postgresql-14-postgis-3-scripts all 3.4.0+dfsg-3~jammy0 [1,023 kB]\n",
            "Get:20 https://ppa.launchpadcontent.net/ubuntugis/ppa/ubuntu jammy/main amd64 postgresql-14-postgis-3 amd64 3.4.0+dfsg-3~jammy0 [3,873 kB]\n",
            "Get:21 https://ppa.launchpadcontent.net/ubuntugis/ppa/ubuntu jammy/main amd64 postgresql-postgis-scripts all 3.4.0+dfsg-3~jammy0 [37.1 kB]\n",
            "Get:22 https://ppa.launchpadcontent.net/ubuntugis/ppa/ubuntu jammy/main amd64 postgresql-postgis amd64 3.4.0+dfsg-3~jammy0 [37.1 kB]\n",
            "Fetched 28.7 MB in 3s (9,750 kB/s)\n",
            "Preconfiguring packages ...\n",
            "Selecting previously unselected package logrotate.\n",
            "(Reading database ... 124926 files and directories currently installed.)\n",
            "Preparing to unpack .../00-logrotate_3.19.0-1ubuntu1.1_amd64.deb ...\n",
            "Unpacking logrotate (3.19.0-1ubuntu1.1) ...\n",
            "Selecting previously unselected package netbase.\n",
            "Preparing to unpack .../01-netbase_6.3_all.deb ...\n",
            "Unpacking netbase (6.3) ...\n",
            "Selecting previously unselected package libcommon-sense-perl:amd64.\n",
            "Preparing to unpack .../02-libcommon-sense-perl_3.75-2build1_amd64.deb ...\n",
            "Unpacking libcommon-sense-perl:amd64 (3.75-2build1) ...\n",
            "Selecting previously unselected package libgmpxx4ldbl:amd64.\n",
            "Preparing to unpack .../03-libgmpxx4ldbl_2%3a6.2.1+dfsg-3ubuntu1_amd64.deb ...\n",
            "Unpacking libgmpxx4ldbl:amd64 (2:6.2.1+dfsg-3ubuntu1) ...\n",
            "Selecting previously unselected package libjson-perl.\n",
            "Preparing to unpack .../04-libjson-perl_4.04000-1_all.deb ...\n",
            "Unpacking libjson-perl (4.04000-1) ...\n",
            "Selecting previously unselected package libtypes-serialiser-perl.\n",
            "Preparing to unpack .../05-libtypes-serialiser-perl_1.01-1_all.deb ...\n",
            "Unpacking libtypes-serialiser-perl (1.01-1) ...\n",
            "Selecting previously unselected package libjson-xs-perl.\n",
            "Preparing to unpack .../06-libjson-xs-perl_4.030-1build3_amd64.deb ...\n",
            "Unpacking libjson-xs-perl (4.030-1build3) ...\n",
            "Selecting previously unselected package libprotobuf-c1:amd64.\n",
            "Preparing to unpack .../07-libprotobuf-c1_1.3.3-1ubuntu2.1_amd64.deb ...\n",
            "Unpacking libprotobuf-c1:amd64 (1.3.3-1ubuntu2.1) ...\n",
            "Selecting previously unselected package libsfcgal1.\n",
            "Preparing to unpack .../08-libsfcgal1_1.4.1-1_amd64.deb ...\n",
            "Unpacking libsfcgal1 (1.4.1-1) ...\n",
            "Selecting previously unselected package postgis.\n",
            "Preparing to unpack .../09-postgis_3.4.0+dfsg-3~jammy0_amd64.deb ...\n",
            "Unpacking postgis (3.4.0+dfsg-3~jammy0) ...\n",
            "Selecting previously unselected package postgis-doc.\n",
            "Preparing to unpack .../10-postgis-doc_3.4.0+dfsg-3~jammy0_all.deb ...\n",
            "Unpacking postgis-doc (3.4.0+dfsg-3~jammy0) ...\n",
            "Selecting previously unselected package postgresql-client-common.\n",
            "Preparing to unpack .../11-postgresql-client-common_238_all.deb ...\n",
            "Unpacking postgresql-client-common (238) ...\n",
            "Selecting previously unselected package postgresql-client-14.\n",
            "Preparing to unpack .../12-postgresql-client-14_14.15-0ubuntu0.22.04.1_amd64.deb ...\n",
            "Unpacking postgresql-client-14 (14.15-0ubuntu0.22.04.1) ...\n",
            "Selecting previously unselected package ssl-cert.\n",
            "Preparing to unpack .../13-ssl-cert_1.1.2_all.deb ...\n",
            "Unpacking ssl-cert (1.1.2) ...\n",
            "Selecting previously unselected package postgresql-common.\n",
            "Preparing to unpack .../14-postgresql-common_238_all.deb ...\n",
            "Adding 'diversion of /usr/bin/pg_config to /usr/bin/pg_config.libpq-dev by postgresql-common'\n",
            "Unpacking postgresql-common (238) ...\n",
            "Selecting previously unselected package postgresql-14.\n",
            "Preparing to unpack .../15-postgresql-14_14.15-0ubuntu0.22.04.1_amd64.deb ...\n",
            "Unpacking postgresql-14 (14.15-0ubuntu0.22.04.1) ...\n",
            "Selecting previously unselected package postgresql.\n",
            "Preparing to unpack .../16-postgresql_14+238_all.deb ...\n",
            "Unpacking postgresql (14+238) ...\n",
            "Selecting previously unselected package postgresql-14-postgis-3-scripts.\n",
            "Preparing to unpack .../17-postgresql-14-postgis-3-scripts_3.4.0+dfsg-3~jammy0_all.deb ...\n",
            "Unpacking postgresql-14-postgis-3-scripts (3.4.0+dfsg-3~jammy0) ...\n",
            "Selecting previously unselected package postgresql-14-postgis-3.\n",
            "Preparing to unpack .../18-postgresql-14-postgis-3_3.4.0+dfsg-3~jammy0_amd64.deb ...\n",
            "Unpacking postgresql-14-postgis-3 (3.4.0+dfsg-3~jammy0) ...\n",
            "Selecting previously unselected package postgresql-postgis-scripts.\n",
            "Preparing to unpack .../19-postgresql-postgis-scripts_3.4.0+dfsg-3~jammy0_all.deb ...\n",
            "Unpacking postgresql-postgis-scripts (3.4.0+dfsg-3~jammy0) ...\n",
            "Selecting previously unselected package postgresql-postgis.\n",
            "Preparing to unpack .../20-postgresql-postgis_3.4.0+dfsg-3~jammy0_amd64.deb ...\n",
            "Unpacking postgresql-postgis (3.4.0+dfsg-3~jammy0) ...\n",
            "Selecting previously unselected package sysstat.\n",
            "Preparing to unpack .../21-sysstat_12.5.2-2ubuntu0.2_amd64.deb ...\n",
            "Unpacking sysstat (12.5.2-2ubuntu0.2) ...\n",
            "Setting up logrotate (3.19.0-1ubuntu1.1) ...\n",
            "Created symlink /etc/systemd/system/timers.target.wants/logrotate.timer → /lib/systemd/system/logrotate.timer.\n",
            "Setting up libcommon-sense-perl:amd64 (3.75-2build1) ...\n",
            "Setting up postgis (3.4.0+dfsg-3~jammy0) ...\n",
            "Setting up postgresql-14-postgis-3-scripts (3.4.0+dfsg-3~jammy0) ...\n",
            "update-alternatives: using /usr/share/postgresql/14/extension/postgis-3.control to provide /usr/share/postgresql/14/extension/postgis.control (postgresql-14-postgis.control) in auto mode\n",
            "Setting up libprotobuf-c1:amd64 (1.3.3-1ubuntu2.1) ...\n",
            "Setting up postgis-doc (3.4.0+dfsg-3~jammy0) ...\n",
            "Setting up libgmpxx4ldbl:amd64 (2:6.2.1+dfsg-3ubuntu1) ...\n",
            "Setting up ssl-cert (1.1.2) ...\n",
            "Setting up libtypes-serialiser-perl (1.01-1) ...\n",
            "Setting up libjson-perl (4.04000-1) ...\n",
            "Setting up netbase (6.3) ...\n",
            "Setting up postgresql-postgis-scripts (3.4.0+dfsg-3~jammy0) ...\n",
            "Setting up libsfcgal1 (1.4.1-1) ...\n",
            "Setting up sysstat (12.5.2-2ubuntu0.2) ...\n",
            "\n",
            "Creating config file /etc/default/sysstat with new version\n",
            "update-alternatives: using /usr/bin/sar.sysstat to provide /usr/bin/sar (sar) in auto mode\n",
            "Created symlink /etc/systemd/system/sysstat.service.wants/sysstat-collect.timer → /lib/systemd/system/sysstat-collect.timer.\n",
            "Created symlink /etc/systemd/system/sysstat.service.wants/sysstat-summary.timer → /lib/systemd/system/sysstat-summary.timer.\n",
            "Created symlink /etc/systemd/system/multi-user.target.wants/sysstat.service → /lib/systemd/system/sysstat.service.\n",
            "Setting up postgresql-client-common (238) ...\n",
            "Setting up libjson-xs-perl (4.030-1build3) ...\n",
            "Setting up postgresql-client-14 (14.15-0ubuntu0.22.04.1) ...\n",
            "update-alternatives: using /usr/share/postgresql/14/man/man1/psql.1.gz to provide /usr/share/man/man1/psql.1.gz (psql.1.gz) in auto mode\n",
            "Setting up postgresql-common (238) ...\n",
            "Adding user postgres to group ssl-cert\n",
            "\n",
            "Creating config file /etc/postgresql-common/createcluster.conf with new version\n",
            "Building PostgreSQL dictionaries from installed myspell/hunspell packages...\n",
            "Removing obsolete dictionary files:\n",
            "Created symlink /etc/systemd/system/multi-user.target.wants/postgresql.service → /lib/systemd/system/postgresql.service.\n",
            "Setting up postgresql-14 (14.15-0ubuntu0.22.04.1) ...\n",
            "Creating new PostgreSQL cluster 14/main ...\n",
            "/usr/lib/postgresql/14/bin/initdb -D /var/lib/postgresql/14/main --auth-local peer --auth-host scram-sha-256 --no-instructions\n",
            "The files belonging to this database system will be owned by user \"postgres\".\n",
            "This user must also own the server process.\n",
            "\n",
            "The database cluster will be initialized with locale \"en_US.UTF-8\".\n",
            "The default database encoding has accordingly been set to \"UTF8\".\n",
            "The default text search configuration will be set to \"english\".\n",
            "\n",
            "Data page checksums are disabled.\n",
            "\n",
            "fixing permissions on existing directory /var/lib/postgresql/14/main ... ok\n",
            "creating subdirectories ... ok\n",
            "selecting dynamic shared memory implementation ... posix\n",
            "selecting default max_connections ... 100\n",
            "selecting default shared_buffers ... 128MB\n",
            "selecting default time zone ... Etc/UTC\n",
            "creating configuration files ... ok\n",
            "running bootstrap script ... ok\n",
            "performing post-bootstrap initialization ... ok\n",
            "syncing data to disk ... ok\n",
            "update-alternatives: using /usr/share/postgresql/14/man/man1/postmaster.1.gz to provide /usr/share/man/man1/postmaster.1.gz (postmaster.1.gz) in auto mode\n",
            "invoke-rc.d: could not determine current runlevel\n",
            "invoke-rc.d: policy-rc.d denied execution of start.\n",
            "Setting up postgresql-14-postgis-3 (3.4.0+dfsg-3~jammy0) ...\n",
            "Setting up postgresql (14+238) ...\n",
            "Setting up postgresql-postgis (3.4.0+dfsg-3~jammy0) ...\n",
            "Processing triggers for man-db (2.10.2-1) ...\n",
            "Processing triggers for libc-bin (2.35-0ubuntu3.8) ...\n",
            "/sbin/ldconfig.real: /usr/local/lib/libur_adapter_level_zero.so.0 is not a symbolic link\n",
            "\n",
            "/sbin/ldconfig.real: /usr/local/lib/libtcm.so.1 is not a symbolic link\n",
            "\n",
            "/sbin/ldconfig.real: /usr/local/lib/libumf.so.0 is not a symbolic link\n",
            "\n",
            "/sbin/ldconfig.real: /usr/local/lib/libtcm_debug.so.1 is not a symbolic link\n",
            "\n",
            "/sbin/ldconfig.real: /usr/local/lib/libtbbbind_2_0.so.3 is not a symbolic link\n",
            "\n",
            "/sbin/ldconfig.real: /usr/local/lib/libtbb.so.12 is not a symbolic link\n",
            "\n",
            "/sbin/ldconfig.real: /usr/local/lib/libtbbbind.so.3 is not a symbolic link\n",
            "\n",
            "/sbin/ldconfig.real: /usr/local/lib/libur_loader.so.0 is not a symbolic link\n",
            "\n",
            "/sbin/ldconfig.real: /usr/local/lib/libur_adapter_opencl.so.0 is not a symbolic link\n",
            "\n",
            "/sbin/ldconfig.real: /usr/local/lib/libtbbbind_2_5.so.3 is not a symbolic link\n",
            "\n",
            "/sbin/ldconfig.real: /usr/local/lib/libtbbmalloc_proxy.so.2 is not a symbolic link\n",
            "\n",
            "/sbin/ldconfig.real: /usr/local/lib/libtbbmalloc.so.2 is not a symbolic link\n",
            "\n",
            "/sbin/ldconfig.real: /usr/local/lib/libhwloc.so.15 is not a symbolic link\n",
            "\n",
            " * Starting PostgreSQL 14 database server\n",
            "   ...done.\n",
            "CREATE EXTENSION\n",
            "Banco de dados 'deltadb' criado e PostGIS ativado com sucesso!\n"
          ]
        }
      ]
    },
    {
      "cell_type": "code",
      "source": [
        "import psycopg2\n",
        "\n",
        "# Conectar ao banco de dados\n",
        "conn = psycopg2.connect(\"dbname=deltadb user=postgres password=postgres host=localhost\")\n",
        "cur = conn.cursor()\n",
        "\n",
        "# Testar a conexão imprimindo a versão do banco\n",
        "cur.execute(\"SELECT version();\")\n",
        "db_version = cur.fetchone()\n",
        "print(\"Banco de dados conectado com sucesso!\")\n",
        "print(\"Versão do PostgreSQL:\", db_version[0])\n",
        "\n",
        "cur.close()\n",
        "conn.close()\n"
      ],
      "metadata": {
        "id": "YgmexFeL3J9o",
        "outputId": "799c87f6-5193-4dd4-e950-838bbfd245c5",
        "colab": {
          "base_uri": "https://localhost:8080/",
          "height": 349
        }
      },
      "execution_count": null,
      "outputs": [
        {
          "output_type": "error",
          "ename": "OperationalError",
          "evalue": "connection to server at \"localhost\" (127.0.0.1), port 5432 failed: FATAL:  password authentication failed for user \"postgres\"\nconnection to server at \"localhost\" (127.0.0.1), port 5432 failed: FATAL:  password authentication failed for user \"postgres\"\n",
          "traceback": [
            "\u001b[0;31m---------------------------------------------------------------------------\u001b[0m",
            "\u001b[0;31mOperationalError\u001b[0m                          Traceback (most recent call last)",
            "\u001b[0;32m<ipython-input-2-2042ee85306d>\u001b[0m in \u001b[0;36m<cell line: 0>\u001b[0;34m()\u001b[0m\n\u001b[1;32m      2\u001b[0m \u001b[0;34m\u001b[0m\u001b[0m\n\u001b[1;32m      3\u001b[0m \u001b[0;31m# Conectar ao banco de dados\u001b[0m\u001b[0;34m\u001b[0m\u001b[0;34m\u001b[0m\u001b[0m\n\u001b[0;32m----> 4\u001b[0;31m \u001b[0mconn\u001b[0m \u001b[0;34m=\u001b[0m \u001b[0mpsycopg2\u001b[0m\u001b[0;34m.\u001b[0m\u001b[0mconnect\u001b[0m\u001b[0;34m(\u001b[0m\u001b[0;34m\"dbname=deltadb user=postgres password=postgres host=localhost\"\u001b[0m\u001b[0;34m)\u001b[0m\u001b[0;34m\u001b[0m\u001b[0;34m\u001b[0m\u001b[0m\n\u001b[0m\u001b[1;32m      5\u001b[0m \u001b[0mcur\u001b[0m \u001b[0;34m=\u001b[0m \u001b[0mconn\u001b[0m\u001b[0;34m.\u001b[0m\u001b[0mcursor\u001b[0m\u001b[0;34m(\u001b[0m\u001b[0;34m)\u001b[0m\u001b[0;34m\u001b[0m\u001b[0;34m\u001b[0m\u001b[0m\n\u001b[1;32m      6\u001b[0m \u001b[0;34m\u001b[0m\u001b[0m\n",
            "\u001b[0;32m/usr/local/lib/python3.11/dist-packages/psycopg2/__init__.py\u001b[0m in \u001b[0;36mconnect\u001b[0;34m(dsn, connection_factory, cursor_factory, **kwargs)\u001b[0m\n\u001b[1;32m    120\u001b[0m \u001b[0;34m\u001b[0m\u001b[0m\n\u001b[1;32m    121\u001b[0m     \u001b[0mdsn\u001b[0m \u001b[0;34m=\u001b[0m \u001b[0m_ext\u001b[0m\u001b[0;34m.\u001b[0m\u001b[0mmake_dsn\u001b[0m\u001b[0;34m(\u001b[0m\u001b[0mdsn\u001b[0m\u001b[0;34m,\u001b[0m \u001b[0;34m**\u001b[0m\u001b[0mkwargs\u001b[0m\u001b[0;34m)\u001b[0m\u001b[0;34m\u001b[0m\u001b[0;34m\u001b[0m\u001b[0m\n\u001b[0;32m--> 122\u001b[0;31m     \u001b[0mconn\u001b[0m \u001b[0;34m=\u001b[0m \u001b[0m_connect\u001b[0m\u001b[0;34m(\u001b[0m\u001b[0mdsn\u001b[0m\u001b[0;34m,\u001b[0m \u001b[0mconnection_factory\u001b[0m\u001b[0;34m=\u001b[0m\u001b[0mconnection_factory\u001b[0m\u001b[0;34m,\u001b[0m \u001b[0;34m**\u001b[0m\u001b[0mkwasync\u001b[0m\u001b[0;34m)\u001b[0m\u001b[0;34m\u001b[0m\u001b[0;34m\u001b[0m\u001b[0m\n\u001b[0m\u001b[1;32m    123\u001b[0m     \u001b[0;32mif\u001b[0m \u001b[0mcursor_factory\u001b[0m \u001b[0;32mis\u001b[0m \u001b[0;32mnot\u001b[0m \u001b[0;32mNone\u001b[0m\u001b[0;34m:\u001b[0m\u001b[0;34m\u001b[0m\u001b[0;34m\u001b[0m\u001b[0m\n\u001b[1;32m    124\u001b[0m         \u001b[0mconn\u001b[0m\u001b[0;34m.\u001b[0m\u001b[0mcursor_factory\u001b[0m \u001b[0;34m=\u001b[0m \u001b[0mcursor_factory\u001b[0m\u001b[0;34m\u001b[0m\u001b[0;34m\u001b[0m\u001b[0m\n",
            "\u001b[0;31mOperationalError\u001b[0m: connection to server at \"localhost\" (127.0.0.1), port 5432 failed: FATAL:  password authentication failed for user \"postgres\"\nconnection to server at \"localhost\" (127.0.0.1), port 5432 failed: FATAL:  password authentication failed for user \"postgres\"\n"
          ]
        }
      ]
    },
    {
      "cell_type": "code",
      "source": [
        "# Definir a senha correta para o usuário postgres\n",
        "!sudo -u postgres psql -c \"ALTER USER postgres PASSWORD 'postgres';\"\n",
        "\n",
        "print(\"Senha do usuário 'postgres' definida com sucesso!\")\n"
      ],
      "metadata": {
        "id": "FrFCeuBa3t6R",
        "outputId": "06eba31e-3fc4-4723-baf2-8864da0064a3",
        "colab": {
          "base_uri": "https://localhost:8080/"
        }
      },
      "execution_count": null,
      "outputs": [
        {
          "output_type": "stream",
          "name": "stdout",
          "text": [
            "ALTER ROLE\n",
            "Senha do usuário 'postgres' definida com sucesso!\n"
          ]
        }
      ]
    },
    {
      "cell_type": "code",
      "source": [
        "import psycopg2\n",
        "\n",
        "# Tentar conectar ao banco de dados após definir a senha\n",
        "try:\n",
        "    conn = psycopg2.connect(\"dbname=deltadb user=postgres password=postgres host=localhost\")\n",
        "    cur = conn.cursor()\n",
        "\n",
        "    cur.execute(\"SELECT version();\")\n",
        "    db_version = cur.fetchone()\n",
        "    print(\"Banco de dados conectado com sucesso!\")\n",
        "    print(\"Versão do PostgreSQL:\", db_version[0])\n",
        "\n",
        "    cur.close()\n",
        "    conn.close()\n",
        "except Exception as e:\n",
        "    print(\"Erro ao conectar:\", e)\n"
      ],
      "metadata": {
        "id": "KDkyfNt838of",
        "outputId": "e5bdb0e7-fdf5-43b0-ed24-7f5af160bb35",
        "colab": {
          "base_uri": "https://localhost:8080/"
        }
      },
      "execution_count": null,
      "outputs": [
        {
          "output_type": "stream",
          "name": "stdout",
          "text": [
            "Banco de dados conectado com sucesso!\n",
            "Versão do PostgreSQL: PostgreSQL 14.15 (Ubuntu 14.15-0ubuntu0.22.04.1) on x86_64-pc-linux-gnu, compiled by gcc (Ubuntu 11.4.0-1ubuntu1~22.04) 11.4.0, 64-bit\n"
          ]
        }
      ]
    },
    {
      "cell_type": "code",
      "source": [
        "# Instalar as bibliotecas necessárias\n",
        "!apt-get install -y postgis gdal-bin python3-gdal\n",
        "!pip install geopandas\n",
        "\n"
      ],
      "metadata": {
        "id": "rPYasssZ4CUx",
        "outputId": "3c70ed85-fb13-4065-d1c8-023d9f59aa2b",
        "colab": {
          "base_uri": "https://localhost:8080/"
        }
      },
      "execution_count": null,
      "outputs": [
        {
          "output_type": "stream",
          "name": "stdout",
          "text": [
            "Reading package lists... Done\n",
            "Building dependency tree... Done\n",
            "Reading state information... Done\n",
            "postgis is already the newest version (3.4.0+dfsg-3~jammy0).\n",
            "Suggested packages:\n",
            "  libgdal-grass python-numpy-doc python3-pytest\n",
            "The following NEW packages will be installed:\n",
            "  gdal-bin python3-gdal python3-numpy\n",
            "0 upgraded, 3 newly installed, 0 to remove and 20 not upgraded.\n",
            "Need to get 5,055 kB of archives.\n",
            "After this operation, 25.1 MB of additional disk space will be used.\n",
            "Get:1 http://archive.ubuntu.com/ubuntu jammy-updates/main amd64 python3-numpy amd64 1:1.21.5-1ubuntu22.04.1 [3,467 kB]\n",
            "Get:2 https://ppa.launchpadcontent.net/ubuntugis/ppa/ubuntu jammy/main amd64 python3-gdal amd64 3.6.4+dfsg-1~jammy0 [1,027 kB]\n",
            "Get:3 https://ppa.launchpadcontent.net/ubuntugis/ppa/ubuntu jammy/main amd64 gdal-bin amd64 3.6.4+dfsg-1~jammy0 [561 kB]\n",
            "Fetched 5,055 kB in 2s (2,586 kB/s)\n",
            "Selecting previously unselected package python3-numpy.\n",
            "(Reading database ... 128032 files and directories currently installed.)\n",
            "Preparing to unpack .../python3-numpy_1%3a1.21.5-1ubuntu22.04.1_amd64.deb ...\n",
            "Unpacking python3-numpy (1:1.21.5-1ubuntu22.04.1) ...\n",
            "Selecting previously unselected package python3-gdal.\n",
            "Preparing to unpack .../python3-gdal_3.6.4+dfsg-1~jammy0_amd64.deb ...\n",
            "Unpacking python3-gdal (3.6.4+dfsg-1~jammy0) ...\n",
            "Selecting previously unselected package gdal-bin.\n",
            "Preparing to unpack .../gdal-bin_3.6.4+dfsg-1~jammy0_amd64.deb ...\n",
            "Unpacking gdal-bin (3.6.4+dfsg-1~jammy0) ...\n",
            "Setting up python3-numpy (1:1.21.5-1ubuntu22.04.1) ...\n",
            "Setting up python3-gdal (3.6.4+dfsg-1~jammy0) ...\n",
            "Setting up gdal-bin (3.6.4+dfsg-1~jammy0) ...\n",
            "Processing triggers for man-db (2.10.2-1) ...\n",
            "Requirement already satisfied: geopandas in /usr/local/lib/python3.11/dist-packages (1.0.1)\n",
            "Requirement already satisfied: numpy>=1.22 in /usr/local/lib/python3.11/dist-packages (from geopandas) (1.26.4)\n",
            "Requirement already satisfied: pyogrio>=0.7.2 in /usr/local/lib/python3.11/dist-packages (from geopandas) (0.10.0)\n",
            "Requirement already satisfied: packaging in /usr/local/lib/python3.11/dist-packages (from geopandas) (24.2)\n",
            "Requirement already satisfied: pandas>=1.4.0 in /usr/local/lib/python3.11/dist-packages (from geopandas) (2.2.2)\n",
            "Requirement already satisfied: pyproj>=3.3.0 in /usr/local/lib/python3.11/dist-packages (from geopandas) (3.7.0)\n",
            "Requirement already satisfied: shapely>=2.0.0 in /usr/local/lib/python3.11/dist-packages (from geopandas) (2.0.7)\n",
            "Requirement already satisfied: python-dateutil>=2.8.2 in /usr/local/lib/python3.11/dist-packages (from pandas>=1.4.0->geopandas) (2.8.2)\n",
            "Requirement already satisfied: pytz>=2020.1 in /usr/local/lib/python3.11/dist-packages (from pandas>=1.4.0->geopandas) (2025.1)\n",
            "Requirement already satisfied: tzdata>=2022.7 in /usr/local/lib/python3.11/dist-packages (from pandas>=1.4.0->geopandas) (2025.1)\n",
            "Requirement already satisfied: certifi in /usr/local/lib/python3.11/dist-packages (from pyogrio>=0.7.2->geopandas) (2025.1.31)\n",
            "Requirement already satisfied: six>=1.5 in /usr/local/lib/python3.11/dist-packages (from python-dateutil>=2.8.2->pandas>=1.4.0->geopandas) (1.17.0)\n"
          ]
        }
      ]
    },
    {
      "cell_type": "code",
      "source": [
        "# Instalar PostgreSQL, PostGIS e GDAL (para manipulação de arquivos espaciais)\n",
        "!apt-get install -y postgresql postgis gdal-bin python3-gdal\n",
        "\n",
        "# Instalar bibliotecas Python necessárias\n",
        "!pip install geopandas psycopg2\n"
      ],
      "metadata": {
        "id": "pO5QBAJX4diM",
        "outputId": "2c19a837-2a7c-4c7c-eba6-460722fd3f98",
        "colab": {
          "base_uri": "https://localhost:8080/"
        }
      },
      "execution_count": null,
      "outputs": [
        {
          "output_type": "stream",
          "name": "stdout",
          "text": [
            "Reading package lists... Done\n",
            "Building dependency tree... Done\n",
            "Reading state information... Done\n",
            "postgresql is already the newest version (14+238).\n",
            "gdal-bin is already the newest version (3.6.4+dfsg-1~jammy0).\n",
            "postgis is already the newest version (3.4.0+dfsg-3~jammy0).\n",
            "python3-gdal is already the newest version (3.6.4+dfsg-1~jammy0).\n",
            "0 upgraded, 0 newly installed, 0 to remove and 20 not upgraded.\n",
            "Requirement already satisfied: geopandas in /usr/local/lib/python3.11/dist-packages (1.0.1)\n",
            "Requirement already satisfied: psycopg2 in /usr/local/lib/python3.11/dist-packages (2.9.10)\n",
            "Requirement already satisfied: numpy>=1.22 in /usr/local/lib/python3.11/dist-packages (from geopandas) (1.26.4)\n",
            "Requirement already satisfied: pyogrio>=0.7.2 in /usr/local/lib/python3.11/dist-packages (from geopandas) (0.10.0)\n",
            "Requirement already satisfied: packaging in /usr/local/lib/python3.11/dist-packages (from geopandas) (24.2)\n",
            "Requirement already satisfied: pandas>=1.4.0 in /usr/local/lib/python3.11/dist-packages (from geopandas) (2.2.2)\n",
            "Requirement already satisfied: pyproj>=3.3.0 in /usr/local/lib/python3.11/dist-packages (from geopandas) (3.7.0)\n",
            "Requirement already satisfied: shapely>=2.0.0 in /usr/local/lib/python3.11/dist-packages (from geopandas) (2.0.7)\n",
            "Requirement already satisfied: python-dateutil>=2.8.2 in /usr/local/lib/python3.11/dist-packages (from pandas>=1.4.0->geopandas) (2.8.2)\n",
            "Requirement already satisfied: pytz>=2020.1 in /usr/local/lib/python3.11/dist-packages (from pandas>=1.4.0->geopandas) (2025.1)\n",
            "Requirement already satisfied: tzdata>=2022.7 in /usr/local/lib/python3.11/dist-packages (from pandas>=1.4.0->geopandas) (2025.1)\n",
            "Requirement already satisfied: certifi in /usr/local/lib/python3.11/dist-packages (from pyogrio>=0.7.2->geopandas) (2025.1.31)\n",
            "Requirement already satisfied: six>=1.5 in /usr/local/lib/python3.11/dist-packages (from python-dateutil>=2.8.2->pandas>=1.4.0->geopandas) (1.17.0)\n"
          ]
        }
      ]
    },
    {
      "cell_type": "code",
      "source": [
        "!wget -P /content/ https://raw.githubusercontent.com/TCCUFABC/deltamap/main/data/area_de_estudo.shp\n",
        "!wget -P /content/ https://raw.githubusercontent.com/TCCUFABC/deltamap/main/data/area_de_estudo.dbf\n",
        "!wget -P /content/ https://raw.githubusercontent.com/TCCUFABC/deltamap/main/data/area_de_estudo.shx\n",
        "!wget -P /content/ https://raw.githubusercontent.com/TCCUFABC/deltamap/main/data/area_de_estudo.prj\n"
      ],
      "metadata": {
        "id": "_i56fsmK9DFe",
        "outputId": "a3826adc-2336-4e3b-90ca-bd01da6ce253",
        "colab": {
          "base_uri": "https://localhost:8080/"
        }
      },
      "execution_count": null,
      "outputs": [
        {
          "output_type": "stream",
          "name": "stdout",
          "text": [
            "--2025-02-16 22:50:25--  https://raw.githubusercontent.com/TCCUFABC/deltamap/main/data/area_de_estudo.shp\n",
            "Resolving raw.githubusercontent.com (raw.githubusercontent.com)... 185.199.108.133, 185.199.109.133, 185.199.110.133, ...\n",
            "Connecting to raw.githubusercontent.com (raw.githubusercontent.com)|185.199.108.133|:443... connected.\n",
            "HTTP request sent, awaiting response... 200 OK\n",
            "Length: 236 [application/octet-stream]\n",
            "Saving to: ‘/content/area_de_estudo.shp’\n",
            "\n",
            "area_de_estudo.shp  100%[===================>]     236  --.-KB/s    in 0s      \n",
            "\n",
            "2025-02-16 22:50:25 (3.97 MB/s) - ‘/content/area_de_estudo.shp’ saved [236/236]\n",
            "\n",
            "--2025-02-16 22:50:25--  https://raw.githubusercontent.com/TCCUFABC/deltamap/main/data/area_de_estudo.dbf\n",
            "Resolving raw.githubusercontent.com (raw.githubusercontent.com)... 185.199.108.133, 185.199.109.133, 185.199.110.133, ...\n",
            "Connecting to raw.githubusercontent.com (raw.githubusercontent.com)|185.199.108.133|:443... connected.\n",
            "HTTP request sent, awaiting response... 200 OK\n",
            "Length: 73 [application/octet-stream]\n",
            "Saving to: ‘/content/area_de_estudo.dbf’\n",
            "\n",
            "area_de_estudo.dbf  100%[===================>]      73  --.-KB/s    in 0s      \n",
            "\n",
            "2025-02-16 22:50:26 (1.03 MB/s) - ‘/content/area_de_estudo.dbf’ saved [73/73]\n",
            "\n",
            "--2025-02-16 22:50:26--  https://raw.githubusercontent.com/TCCUFABC/deltamap/main/data/area_de_estudo.shx\n",
            "Resolving raw.githubusercontent.com (raw.githubusercontent.com)... 185.199.111.133, 185.199.108.133, 185.199.110.133, ...\n",
            "Connecting to raw.githubusercontent.com (raw.githubusercontent.com)|185.199.111.133|:443... connected.\n",
            "HTTP request sent, awaiting response... 200 OK\n",
            "Length: 108 [application/octet-stream]\n",
            "Saving to: ‘/content/area_de_estudo.shx’\n",
            "\n",
            "area_de_estudo.shx  100%[===================>]     108  --.-KB/s    in 0s      \n",
            "\n",
            "2025-02-16 22:50:26 (1.92 MB/s) - ‘/content/area_de_estudo.shx’ saved [108/108]\n",
            "\n",
            "--2025-02-16 22:50:26--  https://raw.githubusercontent.com/TCCUFABC/deltamap/main/data/area_de_estudo.prj\n",
            "Resolving raw.githubusercontent.com (raw.githubusercontent.com)... 185.199.108.133, 185.199.109.133, 185.199.110.133, ...\n",
            "Connecting to raw.githubusercontent.com (raw.githubusercontent.com)|185.199.108.133|:443... connected.\n",
            "HTTP request sent, awaiting response... 200 OK\n",
            "Length: 151 [text/plain]\n",
            "Saving to: ‘/content/area_de_estudo.prj’\n",
            "\n",
            "area_de_estudo.prj  100%[===================>]     151  --.-KB/s    in 0s      \n",
            "\n",
            "2025-02-16 22:50:26 (2.67 MB/s) - ‘/content/area_de_estudo.prj’ saved [151/151]\n",
            "\n"
          ]
        }
      ]
    },
    {
      "cell_type": "code",
      "source": [
        "# Iniciar o PostgreSQL no ambiente do Colab\n",
        "!service postgresql start\n",
        "\n",
        "# Criar um banco de dados para o projeto\n",
        "!sudo -u postgres createdb deltadb\n",
        "\n",
        "# Ativar a extensão PostGIS no banco de dados\n",
        "!sudo -u postgres psql -d deltadb -c \"CREATE EXTENSION postgis;\"\n",
        "\n",
        "print(\"Banco de dados 'deltadb' criado e PostGIS ativado com sucesso!\")\n"
      ],
      "metadata": {
        "id": "MZjmA6cM9Krd",
        "outputId": "2186e276-4e5f-4713-f098-50b6bdd36951",
        "colab": {
          "base_uri": "https://localhost:8080/"
        }
      },
      "execution_count": null,
      "outputs": [
        {
          "output_type": "stream",
          "name": "stdout",
          "text": [
            " * Starting PostgreSQL 14 database server\n",
            "   ...done.\n",
            "createdb: error: database creation failed: ERROR:  database \"deltadb\" already exists\n",
            "ERROR:  extension \"postgis\" already exists\n",
            "Banco de dados 'deltadb' criado e PostGIS ativado com sucesso!\n"
          ]
        }
      ]
    },
    {
      "cell_type": "code",
      "source": [
        "import psycopg2\n",
        "\n",
        "# Conectar ao banco de dados\n",
        "conn = psycopg2.connect(\"dbname=deltadb user=postgres password=postgres host=localhost\")\n",
        "cur = conn.cursor()\n",
        "\n",
        "# Criar uma tabela para armazenar os dados da área de estudo\n",
        "cur.execute(\"\"\"\n",
        "    CREATE TABLE area_estudo (\n",
        "        id SERIAL PRIMARY KEY,\n",
        "        nome VARCHAR(100),\n",
        "        geom GEOMETRY(MULTIPOLYGON, 4326)\n",
        "    );\n",
        "\"\"\")\n",
        "\n",
        "conn.commit()\n",
        "cur.close()\n",
        "conn.close()\n",
        "\n",
        "print(\"Tabela 'area_estudo' criada com sucesso!\")\n"
      ],
      "metadata": {
        "id": "JFdnY5Ek9S-W",
        "outputId": "c932de07-b797-4b94-a5cd-fde49a6b4f29",
        "colab": {
          "base_uri": "https://localhost:8080/"
        }
      },
      "execution_count": null,
      "outputs": [
        {
          "output_type": "stream",
          "name": "stdout",
          "text": [
            "Tabela 'area_estudo' criada com sucesso!\n"
          ]
        }
      ]
    },
    {
      "cell_type": "code",
      "source": [
        "# Importar o shapefile para o banco de dados\n",
        "!ogr2ogr -f \"PostgreSQL\" PG:\"dbname=deltadb user=postgres password=postgres host=localhost\" \\\n",
        "    \"/content/area_de_estudo.shp\" -nln area_estudo -overwrite -progress\n"
      ],
      "metadata": {
        "id": "HQ2-xRrS9d0k",
        "outputId": "1f5a3268-a260-4f41-f242-246756717ce8",
        "colab": {
          "base_uri": "https://localhost:8080/"
        }
      },
      "execution_count": null,
      "outputs": [
        {
          "output_type": "stream",
          "name": "stdout",
          "text": [
            "0...10...20...30...40...50...60...70...80...90...100 - done.\n"
          ]
        }
      ]
    },
    {
      "cell_type": "code",
      "source": [
        "# Conectar ao banco e contar os registros na tabela\n",
        "conn = psycopg2.connect(\"dbname=deltadb user=postgres password=postgres host=localhost\")\n",
        "cur = conn.cursor()\n",
        "\n",
        "# Contar o número de registros na tabela\n",
        "cur.execute(\"SELECT COUNT(*) FROM area_estudo;\")\n",
        "num_registros = cur.fetchone()[0]\n",
        "\n",
        "print(f\"Número de registros na tabela 'area_estudo': {num_registros}\")\n",
        "\n",
        "cur.close()\n",
        "conn.close()\n"
      ],
      "metadata": {
        "id": "97lIiGJ59i9q",
        "outputId": "a3f0808a-9508-4d5c-efc7-84f79fc832bd",
        "colab": {
          "base_uri": "https://localhost:8080/"
        }
      },
      "execution_count": null,
      "outputs": [
        {
          "output_type": "stream",
          "name": "stdout",
          "text": [
            "Número de registros na tabela 'area_estudo': 1\n"
          ]
        }
      ]
    },
    {
      "cell_type": "code",
      "source": [
        "# Conectar ao banco e visualizar algumas informações\n",
        "conn = psycopg2.connect(\"dbname=deltadb user=postgres password=postgres host=localhost\")\n",
        "cur = conn.cursor()\n",
        "\n",
        "# Selecionar os primeiros registros da tabela\n",
        "cur.execute(\"SELECT id, nome, ST_AsText(geom) FROM area_estudo LIMIT 5;\")\n",
        "dados = cur.fetchall()\n",
        "\n",
        "# Mostrar os dados importados\n",
        "for linha in dados:\n",
        "    print(linha)\n",
        "\n",
        "cur.close()\n",
        "conn.close()\n"
      ],
      "metadata": {
        "id": "ulYuJ7xG9pfa",
        "outputId": "2a1f0386-0186-4d7f-bf1c-36eb60199c6f",
        "colab": {
          "base_uri": "https://localhost:8080/",
          "height": 245
        }
      },
      "execution_count": null,
      "outputs": [
        {
          "output_type": "error",
          "ename": "UndefinedColumn",
          "evalue": "column \"nome\" does not exist\nLINE 1: SELECT id, nome, ST_AsText(geom) FROM area_estudo LIMIT 5;\n                   ^\n",
          "traceback": [
            "\u001b[0;31m---------------------------------------------------------------------------\u001b[0m",
            "\u001b[0;31mUndefinedColumn\u001b[0m                           Traceback (most recent call last)",
            "\u001b[0;32m<ipython-input-12-76e7552d8fb0>\u001b[0m in \u001b[0;36m<cell line: 0>\u001b[0;34m()\u001b[0m\n\u001b[1;32m      4\u001b[0m \u001b[0;34m\u001b[0m\u001b[0m\n\u001b[1;32m      5\u001b[0m \u001b[0;31m# Selecionar os primeiros registros da tabela\u001b[0m\u001b[0;34m\u001b[0m\u001b[0;34m\u001b[0m\u001b[0m\n\u001b[0;32m----> 6\u001b[0;31m \u001b[0mcur\u001b[0m\u001b[0;34m.\u001b[0m\u001b[0mexecute\u001b[0m\u001b[0;34m(\u001b[0m\u001b[0;34m\"SELECT id, nome, ST_AsText(geom) FROM area_estudo LIMIT 5;\"\u001b[0m\u001b[0;34m)\u001b[0m\u001b[0;34m\u001b[0m\u001b[0;34m\u001b[0m\u001b[0m\n\u001b[0m\u001b[1;32m      7\u001b[0m \u001b[0mdados\u001b[0m \u001b[0;34m=\u001b[0m \u001b[0mcur\u001b[0m\u001b[0;34m.\u001b[0m\u001b[0mfetchall\u001b[0m\u001b[0;34m(\u001b[0m\u001b[0;34m)\u001b[0m\u001b[0;34m\u001b[0m\u001b[0;34m\u001b[0m\u001b[0m\n\u001b[1;32m      8\u001b[0m \u001b[0;34m\u001b[0m\u001b[0m\n",
            "\u001b[0;31mUndefinedColumn\u001b[0m: column \"nome\" does not exist\nLINE 1: SELECT id, nome, ST_AsText(geom) FROM area_estudo LIMIT 5;\n                   ^\n"
          ]
        }
      ]
    },
    {
      "cell_type": "code",
      "source": [
        "conn = psycopg2.connect(\"dbname=deltadb user=postgres password=postgres host=localhost\")\n",
        "cur = conn.cursor()\n",
        "\n",
        "# Verificar a estrutura da tabela\n",
        "cur.execute(\"\"\"\n",
        "    SELECT column_name, data_type\n",
        "    FROM information_schema.columns\n",
        "    WHERE table_name = 'area_estudo';\n",
        "\"\"\")\n",
        "\n",
        "colunas = cur.fetchall()\n",
        "\n",
        "print(\"Estrutura da tabela 'area_estudo':\")\n",
        "for coluna in colunas:\n",
        "    print(f\"- {coluna[0]} ({coluna[1]})\")\n",
        "\n",
        "cur.close()\n",
        "conn.close()\n"
      ],
      "metadata": {
        "id": "QOEN3G2LAWXg",
        "outputId": "b9834fe8-0a95-48e4-9660-0fa0d8707b5a",
        "colab": {
          "base_uri": "https://localhost:8080/"
        }
      },
      "execution_count": null,
      "outputs": [
        {
          "output_type": "stream",
          "name": "stdout",
          "text": [
            "Estrutura da tabela 'area_estudo':\n",
            "- ogc_fid (integer)\n",
            "- id (numeric)\n",
            "- wkb_geometry (USER-DEFINED)\n"
          ]
        }
      ]
    },
    {
      "cell_type": "code",
      "source": [
        "conn = psycopg2.connect(\"dbname=deltadb user=postgres password=postgres host=localhost\")\n",
        "cur = conn.cursor()\n",
        "\n",
        "# Adicionar a coluna 'nome' à tabela\n",
        "cur.execute(\"ALTER TABLE area_estudo ADD COLUMN nome VARCHAR(255);\")\n",
        "\n",
        "conn.commit()\n",
        "cur.close()\n",
        "conn.close()\n",
        "\n",
        "print(\"Coluna 'nome' adicionada com sucesso!\")\n"
      ],
      "metadata": {
        "id": "frZXPqjmAk4j",
        "outputId": "09636077-176e-43ed-835b-286815520921",
        "colab": {
          "base_uri": "https://localhost:8080/"
        }
      },
      "execution_count": null,
      "outputs": [
        {
          "output_type": "stream",
          "name": "stdout",
          "text": [
            "Coluna 'nome' adicionada com sucesso!\n"
          ]
        }
      ]
    },
    {
      "cell_type": "code",
      "source": [
        "conn = psycopg2.connect(\"dbname=deltadb user=postgres password=postgres host=localhost\")\n",
        "cur = conn.cursor()\n",
        "\n",
        "# Atualizar a coluna 'nome' com um valor padrão\n",
        "cur.execute(\"UPDATE area_estudo SET nome = 'Área de Estudo - Delta Norte';\")\n",
        "\n",
        "conn.commit()\n",
        "cur.close()\n",
        "conn.close()\n",
        "\n",
        "print(\"Dados da coluna 'nome' preenchidos com sucesso!\")\n"
      ],
      "metadata": {
        "id": "oNidzOA2A3Oe",
        "outputId": "32c61720-d621-4354-856d-a428fc321db3",
        "colab": {
          "base_uri": "https://localhost:8080/"
        }
      },
      "execution_count": null,
      "outputs": [
        {
          "output_type": "stream",
          "name": "stdout",
          "text": [
            "Dados da coluna 'nome' preenchidos com sucesso!\n"
          ]
        }
      ]
    },
    {
      "cell_type": "code",
      "source": [
        "conn = psycopg2.connect(\"dbname=deltadb user=postgres password=postgres host=localhost\")\n",
        "cur = conn.cursor()\n",
        "\n",
        "# Ajustar a consulta SQL para usar 'wkb_geometry' no lugar de 'geom'\n",
        "cur.execute(\"SELECT ogc_fid, nome, ST_AsText(wkb_geometry) FROM area_estudo LIMIT 5;\")\n",
        "dados = cur.fetchall()\n",
        "\n",
        "# Exibir os dados\n",
        "for linha in dados:\n",
        "    print(linha)\n",
        "\n",
        "cur.close()\n",
        "conn.close()\n"
      ],
      "metadata": {
        "id": "l490lcx6A-I6",
        "outputId": "a80a34ce-9e74-4655-e433-c72fe763366f",
        "colab": {
          "base_uri": "https://localhost:8080/"
        }
      },
      "execution_count": null,
      "outputs": [
        {
          "output_type": "stream",
          "name": "stdout",
          "text": [
            "(1, 'Área de Estudo - Delta Norte', 'POLYGON((-51.583460350789494 1.044482967127976,-48.53084275009064 1.054901457232745,-48.50385077760802 -0.549161147665245,-51.57829640387763 -0.564086495903382,-51.583460350789494 1.044482967127976))')\n"
          ]
        }
      ]
    },
    {
      "cell_type": "code",
      "source": [
        "conn = psycopg2.connect(\"dbname=deltadb user=postgres password=postgres host=localhost\")\n",
        "cur = conn.cursor()\n",
        "\n",
        "# Calcular a área total convertendo para metros (EPSG:3857) e transformando para km²\n",
        "cur.execute(\"\"\"\n",
        "    SELECT SUM(ST_Area(ST_Transform(wkb_geometry, 3857))) / 1000000\n",
        "    FROM area_estudo;\n",
        "\"\"\")\n",
        "\n",
        "area_total_km2 = cur.fetchone()[0]\n",
        "\n",
        "cur.close()\n",
        "conn.close()\n",
        "\n",
        "print(f\"Área total da área de estudo: {area_total_km2:.2f} km²\")\n"
      ],
      "metadata": {
        "id": "mKdE5EW9BC3k",
        "outputId": "377b1422-5df8-4c0a-fc24-4888cb1eb028",
        "colab": {
          "base_uri": "https://localhost:8080/"
        }
      },
      "execution_count": null,
      "outputs": [
        {
          "output_type": "stream",
          "name": "stdout",
          "text": [
            "Área total da área de estudo: 60986.26 km²\n"
          ]
        }
      ]
    },
    {
      "cell_type": "code",
      "source": [
        "# Criar a pasta para armazenar os arquivos\n",
        "!mkdir -p /content/data\n",
        "\n",
        "# Baixar os arquivos do GitHub\n",
        "!wget -P /content/data/ https://raw.githubusercontent.com/TCCUFABC/deltamap/main/data/conservation_units_amazon_biome.shp\n",
        "!wget -P /content/data/ https://raw.githubusercontent.com/TCCUFABC/deltamap/main/data/conservation_units_amazon_biome.dbf\n",
        "!wget -P /content/data/ https://raw.githubusercontent.com/TCCUFABC/deltamap/main/data/conservation_units_amazon_biome.shx\n",
        "!wget -P /content/data/ https://raw.githubusercontent.com/TCCUFABC/deltamap/main/data/conservation_units_amazon_biome.prj\n"
      ],
      "metadata": {
        "id": "b1pE4XLMCF7e",
        "outputId": "5300d553-6bae-4558-babe-c494d54b5346",
        "colab": {
          "base_uri": "https://localhost:8080/"
        }
      },
      "execution_count": null,
      "outputs": [
        {
          "output_type": "stream",
          "name": "stdout",
          "text": [
            "--2025-02-16 23:24:56--  https://raw.githubusercontent.com/TCCUFABC/deltamap/main/data/conservation_units_amazon_biome.shp\n",
            "Resolving raw.githubusercontent.com (raw.githubusercontent.com)... 185.199.108.133, 185.199.109.133, 185.199.110.133, ...\n",
            "Connecting to raw.githubusercontent.com (raw.githubusercontent.com)|185.199.108.133|:443... connected.\n",
            "HTTP request sent, awaiting response... 200 OK\n",
            "Length: 20529684 (20M) [application/octet-stream]\n",
            "Saving to: ‘/content/data/conservation_units_amazon_biome.shp’\n",
            "\n",
            "conservation_units_ 100%[===================>]  19.58M  --.-KB/s    in 0.1s    \n",
            "\n",
            "2025-02-16 23:24:57 (179 MB/s) - ‘/content/data/conservation_units_amazon_biome.shp’ saved [20529684/20529684]\n",
            "\n",
            "--2025-02-16 23:24:57--  https://raw.githubusercontent.com/TCCUFABC/deltamap/main/data/conservation_units_amazon_biome.dbf\n",
            "Resolving raw.githubusercontent.com (raw.githubusercontent.com)... 185.199.108.133, 185.199.109.133, 185.199.110.133, ...\n",
            "Connecting to raw.githubusercontent.com (raw.githubusercontent.com)|185.199.108.133|:443... connected.\n",
            "HTTP request sent, awaiting response... 200 OK\n",
            "Length: 389953 (381K) [application/octet-stream]\n",
            "Saving to: ‘/content/data/conservation_units_amazon_biome.dbf’\n",
            "\n",
            "conservation_units_ 100%[===================>] 380.81K  --.-KB/s    in 0.03s   \n",
            "\n",
            "2025-02-16 23:24:57 (11.6 MB/s) - ‘/content/data/conservation_units_amazon_biome.dbf’ saved [389953/389953]\n",
            "\n",
            "--2025-02-16 23:24:57--  https://raw.githubusercontent.com/TCCUFABC/deltamap/main/data/conservation_units_amazon_biome.shx\n",
            "Resolving raw.githubusercontent.com (raw.githubusercontent.com)... 185.199.108.133, 185.199.109.133, 185.199.110.133, ...\n",
            "Connecting to raw.githubusercontent.com (raw.githubusercontent.com)|185.199.108.133|:443... connected.\n",
            "HTTP request sent, awaiting response... 200 OK\n",
            "Length: 2532 (2.5K) [application/octet-stream]\n",
            "Saving to: ‘/content/data/conservation_units_amazon_biome.shx’\n",
            "\n",
            "conservation_units_ 100%[===================>]   2.47K  --.-KB/s    in 0s      \n",
            "\n",
            "2025-02-16 23:24:58 (39.3 MB/s) - ‘/content/data/conservation_units_amazon_biome.shx’ saved [2532/2532]\n",
            "\n",
            "--2025-02-16 23:24:58--  https://raw.githubusercontent.com/TCCUFABC/deltamap/main/data/conservation_units_amazon_biome.prj\n",
            "Resolving raw.githubusercontent.com (raw.githubusercontent.com)... 185.199.108.133, 185.199.109.133, 185.199.110.133, ...\n",
            "Connecting to raw.githubusercontent.com (raw.githubusercontent.com)|185.199.108.133|:443... connected.\n",
            "HTTP request sent, awaiting response... 200 OK\n",
            "Length: 334 [text/plain]\n",
            "Saving to: ‘/content/data/conservation_units_amazon_biome.prj’\n",
            "\n",
            "conservation_units_ 100%[===================>]     334  --.-KB/s    in 0s      \n",
            "\n",
            "2025-02-16 23:24:58 (5.89 MB/s) - ‘/content/data/conservation_units_amazon_biome.prj’ saved [334/334]\n",
            "\n"
          ]
        }
      ]
    },
    {
      "cell_type": "code",
      "source": [
        "import psycopg2\n",
        "\n",
        "# Conectar ao banco de dados\n",
        "conn = psycopg2.connect(\"dbname=deltadb user=postgres password=postgres host=localhost\")\n",
        "cur = conn.cursor()\n",
        "\n",
        "# Criar a tabela para armazenar as Unidades de Conservação\n",
        "cur.execute(\"\"\"\n",
        "    CREATE TABLE conservation_units (\n",
        "        id SERIAL PRIMARY KEY,\n",
        "        nome VARCHAR(255),\n",
        "        categoria VARCHAR(255),\n",
        "        geom GEOMETRY(MULTIPOLYGON, 4326)\n",
        "    );\n",
        "\"\"\")\n",
        "\n",
        "conn.commit()\n",
        "cur.close()\n",
        "conn.close()\n",
        "\n",
        "print(\"Tabela 'conservation_units' criada com sucesso!\")\n"
      ],
      "metadata": {
        "id": "sY4uy-k2FEQY",
        "outputId": "340c8618-1688-49fa-a4cd-24cc6137e1c8",
        "colab": {
          "base_uri": "https://localhost:8080/"
        }
      },
      "execution_count": null,
      "outputs": [
        {
          "output_type": "stream",
          "name": "stdout",
          "text": [
            "Tabela 'conservation_units' criada com sucesso!\n"
          ]
        }
      ]
    },
    {
      "cell_type": "code",
      "source": [
        "# Importar o shapefile para o PostgreSQL\n",
        "!ogr2ogr -f \"PostgreSQL\" PG:\"dbname=deltadb user=postgres password=postgres host=localhost\" \\\n",
        "    \"/content/data/conservation_units_amazon_biome.shp\" -nln conservation_units -overwrite -progress\n"
      ],
      "metadata": {
        "id": "UyhRSZ7mFMjv",
        "outputId": "73ffd304-a02d-4386-efc6-f583f752ed1e",
        "colab": {
          "base_uri": "https://localhost:8080/"
        }
      },
      "execution_count": null,
      "outputs": [
        {
          "output_type": "stream",
          "name": "stdout",
          "text": [
            "Warning 1: Geometry to be inserted is of type Multi Polygon, whereas the layer geometry type is Polygon.\n",
            "Insertion is likely to fail\n",
            "0...10...20...30...40...50...60...70...80...90...100 - done.\n",
            "ERROR 1: COPY statement failed.\n",
            "ERROR:  Geometry type (MultiPolygon) does not match column type (Polygon)\n",
            "CONTEXT:  COPY conservation_units, line 1, column wkb_geometry: \"010600002042120000080000000103000000010000000500000009027FF89B4F47C01AE119A52955EEBF829558B99A4F47C0...\"\n",
            "\n"
          ]
        }
      ]
    },
    {
      "cell_type": "code",
      "source": [
        "conn = psycopg2.connect(\"dbname=deltadb user=postgres password=postgres host=localhost\")\n",
        "cur = conn.cursor()\n",
        "\n",
        "# Contar quantos registros existem na tabela\n",
        "cur.execute(\"SELECT COUNT(*) FROM conservation_units;\")\n",
        "num_registros = cur.fetchone()[0]\n",
        "\n",
        "cur.close()\n",
        "conn.close()\n",
        "\n",
        "print(f\"Número de registros na tabela 'conservation_units': {num_registros}\")\n"
      ],
      "metadata": {
        "id": "pe9pUANTFTgD",
        "outputId": "228d4746-6d67-45ea-b1cf-dea07683527c",
        "colab": {
          "base_uri": "https://localhost:8080/"
        }
      },
      "execution_count": null,
      "outputs": [
        {
          "output_type": "stream",
          "name": "stdout",
          "text": [
            "Número de registros na tabela 'conservation_units': 0\n"
          ]
        }
      ]
    },
    {
      "cell_type": "code",
      "source": [
        "!ls /content/data/\n"
      ],
      "metadata": {
        "id": "_IrhvtHYFZ5B",
        "outputId": "7ced8ec2-49d0-4e4f-fa19-ccf6fab3b031",
        "colab": {
          "base_uri": "https://localhost:8080/"
        }
      },
      "execution_count": null,
      "outputs": [
        {
          "output_type": "stream",
          "name": "stdout",
          "text": [
            "conservation_units_amazon_biome.dbf  conservation_units_amazon_biome.shp\n",
            "conservation_units_amazon_biome.prj  conservation_units_amazon_biome.shx\n"
          ]
        }
      ]
    },
    {
      "cell_type": "code",
      "source": [
        "!ogrinfo -al -so /content/data/conservation_units_amazon_biome.shp\n"
      ],
      "metadata": {
        "id": "gf8ruL9QFyiS",
        "outputId": "0ddc1aa1-84dc-4b71-9bf0-665f76bb1f26",
        "colab": {
          "base_uri": "https://localhost:8080/"
        }
      },
      "execution_count": null,
      "outputs": [
        {
          "output_type": "stream",
          "name": "stdout",
          "text": [
            "INFO: Open of `/content/data/conservation_units_amazon_biome.shp'\n",
            "      using driver `ESRI Shapefile' successful.\n",
            "\n",
            "Layer name: conservation_units_amazon_biome\n",
            "Geometry: Polygon\n",
            "Feature Count: 304\n",
            "Extent: (-73.983182, -16.109512) - (-43.399318, 5.269581)\n",
            "Layer SRS WKT:\n",
            "BOUNDCRS[\n",
            "    SOURCECRS[\n",
            "        GEOGCRS[\"SIRGAS 2000\",\n",
            "            DATUM[\"Sistema de Referencia Geocentrico para las AmericaS 2000\",\n",
            "                ELLIPSOID[\"GRS 1980\",6378137,298.257222101,\n",
            "                    LENGTHUNIT[\"metre\",1]]],\n",
            "            PRIMEM[\"Greenwich\",0,\n",
            "                ANGLEUNIT[\"degree\",0.0174532925199433]],\n",
            "            CS[ellipsoidal,2],\n",
            "                AXIS[\"geodetic latitude (Lat)\",north,\n",
            "                    ORDER[1],\n",
            "                    ANGLEUNIT[\"degree\",0.0174532925199433]],\n",
            "                AXIS[\"geodetic longitude (Lon)\",east,\n",
            "                    ORDER[2],\n",
            "                    ANGLEUNIT[\"degree\",0.0174532925199433]],\n",
            "            USAGE[\n",
            "                SCOPE[\"Horizontal component of 3D system.\"],\n",
            "                AREA[\"Latin America - Central America and South America - onshore and offshore. Brazil - onshore and offshore.\"],\n",
            "                BBOX[-59.87,-122.19,32.72,-25.28]],\n",
            "            ID[\"EPSG\",4674]]],\n",
            "    TARGETCRS[\n",
            "        GEOGCRS[\"WGS 84\",\n",
            "            DATUM[\"World Geodetic System 1984\",\n",
            "                ELLIPSOID[\"WGS 84\",6378137,298.257223563,\n",
            "                    LENGTHUNIT[\"metre\",1]]],\n",
            "            PRIMEM[\"Greenwich\",0,\n",
            "                ANGLEUNIT[\"degree\",0.0174532925199433]],\n",
            "            CS[ellipsoidal,2],\n",
            "                AXIS[\"latitude\",north,\n",
            "                    ORDER[1],\n",
            "                    ANGLEUNIT[\"degree\",0.0174532925199433]],\n",
            "                AXIS[\"longitude\",east,\n",
            "                    ORDER[2],\n",
            "                    ANGLEUNIT[\"degree\",0.0174532925199433]],\n",
            "            ID[\"EPSG\",4326]]],\n",
            "    ABRIDGEDTRANSFORMATION[\"SIRGAS 2000 to WGS 84 (1)\",\n",
            "        VERSION[\"OGP-C&S America\"],\n",
            "        METHOD[\"Geocentric translations (geog2D domain)\",\n",
            "            ID[\"EPSG\",9603]],\n",
            "        PARAMETER[\"X-axis translation\",0,\n",
            "            ID[\"EPSG\",8605]],\n",
            "        PARAMETER[\"Y-axis translation\",0,\n",
            "            ID[\"EPSG\",8606]],\n",
            "        PARAMETER[\"Z-axis translation\",0,\n",
            "            ID[\"EPSG\",8607]],\n",
            "        USAGE[\n",
            "            SCOPE[\"(null/copy) Approximation for medium and low accuracy applications assuming equality between plate-fixed static and earth-fixed dynamic CRSs, ignoring static/dynamic CRS differences.\"],\n",
            "            AREA[\"Latin America - Central America and South America - onshore and offshore. Brazil - onshore and offshore.\"],\n",
            "            BBOX[-59.87,-122.19,32.72,-25.28]],\n",
            "        ID[\"EPSG\",15894],\n",
            "        REMARK[\"Approximation at the +/- 1m level assuming that SIRGAS 2000 is equivalent to WGS 84.\"]]]\n",
            "Data axis to CRS axis mapping: 2,1\n",
            "id: Integer64 (11.0)\n",
            "nome: String (254.0)\n",
            "categoria: String (254.0)\n",
            "grupo: String (254.0)\n",
            "esfera: String (254.0)\n",
            "ano_cria: String (254.0)\n"
          ]
        }
      ]
    },
    {
      "cell_type": "code",
      "source": [
        "import psycopg2\n",
        "\n",
        "# Conectar ao banco de dados\n",
        "conn = psycopg2.connect(\"dbname=deltadb user=postgres password=postgres host=localhost\")\n",
        "cur = conn.cursor()\n",
        "\n",
        "# Remover a tabela existente\n",
        "cur.execute(\"DROP TABLE IF EXISTS conservation_units;\")\n",
        "conn.commit()\n",
        "\n",
        "cur.close()\n",
        "conn.close()\n",
        "\n",
        "print(\"Tabela 'conservation_units' removida!\")\n"
      ],
      "metadata": {
        "id": "buMQZ1WxF_hr",
        "outputId": "7e852561-dcd3-4484-e53f-4fbec77db090",
        "colab": {
          "base_uri": "https://localhost:8080/"
        }
      },
      "execution_count": null,
      "outputs": [
        {
          "output_type": "stream",
          "name": "stdout",
          "text": [
            "Tabela 'conservation_units' removida!\n"
          ]
        }
      ]
    },
    {
      "cell_type": "code",
      "source": [
        "conn = psycopg2.connect(\"dbname=deltadb user=postgres password=postgres host=localhost\")\n",
        "cur = conn.cursor()\n",
        "\n",
        "# Criar a tabela para armazenar as Unidades de Conservação\n",
        "cur.execute(\"\"\"\n",
        "    CREATE TABLE conservation_units (\n",
        "        id SERIAL PRIMARY KEY,\n",
        "        nome VARCHAR(255),\n",
        "        categoria VARCHAR(255),\n",
        "        geom GEOMETRY(MULTIPOLYGON, 4326)\n",
        "    );\n",
        "\"\"\")\n",
        "\n",
        "conn.commit()\n",
        "cur.close()\n",
        "conn.close()\n",
        "\n",
        "print(\"Tabela 'conservation_units' criada com sucesso!\")\n"
      ],
      "metadata": {
        "id": "5DcaRlTdGBCc",
        "outputId": "8465f8ac-75ae-4efb-b0e5-d5039566c54f",
        "colab": {
          "base_uri": "https://localhost:8080/"
        }
      },
      "execution_count": null,
      "outputs": [
        {
          "output_type": "stream",
          "name": "stdout",
          "text": [
            "Tabela 'conservation_units' criada com sucesso!\n"
          ]
        }
      ]
    },
    {
      "cell_type": "code",
      "source": [
        "# Importar o shapefile para o PostgreSQL\n",
        "!ogr2ogr -f \"PostgreSQL\" PG:\"dbname=deltadb user=postgres password=postgres host=localhost\" \\\n",
        "    \"/content/data/conservation_units_amazon_biome.shp\" -nln conservation_units -overwrite -progress\n"
      ],
      "metadata": {
        "id": "42MbUWcyGEip",
        "outputId": "80c9ea86-3f6b-4276-9b27-3fccfbbf3a71",
        "colab": {
          "base_uri": "https://localhost:8080/"
        }
      },
      "execution_count": null,
      "outputs": [
        {
          "output_type": "stream",
          "name": "stdout",
          "text": [
            "Warning 1: Geometry to be inserted is of type Multi Polygon, whereas the layer geometry type is Polygon.\n",
            "Insertion is likely to fail\n",
            "0...10...20...30...40...50...60...70...80...90...100 - done.\n",
            "ERROR 1: COPY statement failed.\n",
            "ERROR:  Geometry type (MultiPolygon) does not match column type (Polygon)\n",
            "CONTEXT:  COPY conservation_units, line 1, column wkb_geometry: \"010600002042120000080000000103000000010000000500000009027FF89B4F47C01AE119A52955EEBF829558B99A4F47C0...\"\n",
            "\n"
          ]
        }
      ]
    },
    {
      "cell_type": "code",
      "source": [
        "import psycopg2\n",
        "\n",
        "# Conectar ao banco de dados\n",
        "conn = psycopg2.connect(\"dbname=deltadb user=postgres password=postgres host=localhost\")\n",
        "cur = conn.cursor()\n",
        "\n",
        "# Alterar a coluna geom para aceitar MultiPolygon\n",
        "cur.execute(\"ALTER TABLE conservation_units ALTER COLUMN geom TYPE GEOMETRY(MULTIPOLYGON, 4326) USING ST_Multi(geom);\")\n",
        "\n",
        "conn.commit()\n",
        "cur.close()\n",
        "conn.close()\n",
        "\n",
        "print(\"Coluna 'geom' alterada para MultiPolygon com sucesso!\")\n"
      ],
      "metadata": {
        "id": "M-9qrRDMGHg0",
        "outputId": "1968887f-4ca4-4ca6-cca5-a067e3150c5b",
        "colab": {
          "base_uri": "https://localhost:8080/",
          "height": 245
        }
      },
      "execution_count": null,
      "outputs": [
        {
          "output_type": "error",
          "ename": "UndefinedColumn",
          "evalue": "column \"geom\" does not exist\nLINE 1: ...geom TYPE GEOMETRY(MULTIPOLYGON, 4326) USING ST_Multi(geom);\n                                                                 ^\n",
          "traceback": [
            "\u001b[0;31m---------------------------------------------------------------------------\u001b[0m",
            "\u001b[0;31mUndefinedColumn\u001b[0m                           Traceback (most recent call last)",
            "\u001b[0;32m<ipython-input-29-98726199b3d4>\u001b[0m in \u001b[0;36m<cell line: 0>\u001b[0;34m()\u001b[0m\n\u001b[1;32m      6\u001b[0m \u001b[0;34m\u001b[0m\u001b[0m\n\u001b[1;32m      7\u001b[0m \u001b[0;31m# Alterar a coluna geom para aceitar MultiPolygon\u001b[0m\u001b[0;34m\u001b[0m\u001b[0;34m\u001b[0m\u001b[0m\n\u001b[0;32m----> 8\u001b[0;31m \u001b[0mcur\u001b[0m\u001b[0;34m.\u001b[0m\u001b[0mexecute\u001b[0m\u001b[0;34m(\u001b[0m\u001b[0;34m\"ALTER TABLE conservation_units ALTER COLUMN geom TYPE GEOMETRY(MULTIPOLYGON, 4326) USING ST_Multi(geom);\"\u001b[0m\u001b[0;34m)\u001b[0m\u001b[0;34m\u001b[0m\u001b[0;34m\u001b[0m\u001b[0m\n\u001b[0m\u001b[1;32m      9\u001b[0m \u001b[0;34m\u001b[0m\u001b[0m\n\u001b[1;32m     10\u001b[0m \u001b[0mconn\u001b[0m\u001b[0;34m.\u001b[0m\u001b[0mcommit\u001b[0m\u001b[0;34m(\u001b[0m\u001b[0;34m)\u001b[0m\u001b[0;34m\u001b[0m\u001b[0;34m\u001b[0m\u001b[0m\n",
            "\u001b[0;31mUndefinedColumn\u001b[0m: column \"geom\" does not exist\nLINE 1: ...geom TYPE GEOMETRY(MULTIPOLYGON, 4326) USING ST_Multi(geom);\n                                                                 ^\n"
          ]
        }
      ]
    },
    {
      "cell_type": "code",
      "source": [
        "conn = psycopg2.connect(\"dbname=deltadb user=postgres password=postgres host=localhost\")\n",
        "cur = conn.cursor()\n",
        "\n",
        "# Verificar as colunas da tabela conservation_units\n",
        "cur.execute(\"\"\"\n",
        "    SELECT column_name, data_type\n",
        "    FROM information_schema.columns\n",
        "    WHERE table_name = 'conservation_units';\n",
        "\"\"\")\n",
        "\n",
        "colunas = cur.fetchall()\n",
        "\n",
        "print(\"Estrutura da tabela 'conservation_units':\")\n",
        "for coluna in colunas:\n",
        "    print(f\"- {coluna[0]} ({coluna[1]})\")\n",
        "\n",
        "cur.close()\n",
        "conn.close()\n"
      ],
      "metadata": {
        "id": "SByRt42YGal6",
        "outputId": "2a6b758c-519e-4c2b-e701-6a91e82057d4",
        "colab": {
          "base_uri": "https://localhost:8080/"
        }
      },
      "execution_count": null,
      "outputs": [
        {
          "output_type": "stream",
          "name": "stdout",
          "text": [
            "Estrutura da tabela 'conservation_units':\n",
            "- ogc_fid (integer)\n",
            "- id (numeric)\n",
            "- wkb_geometry (USER-DEFINED)\n",
            "- categoria (character varying)\n",
            "- grupo (character varying)\n",
            "- esfera (character varying)\n",
            "- ano_cria (character varying)\n",
            "- nome (character varying)\n"
          ]
        }
      ]
    },
    {
      "cell_type": "code",
      "source": [
        "conn = psycopg2.connect(\"dbname=deltadb user=postgres password=postgres host=localhost\")\n",
        "cur = conn.cursor()\n",
        "\n",
        "# Alterar a coluna wkb_geometry para aceitar MultiPolygon\n",
        "cur.execute(\"ALTER TABLE conservation_units ALTER COLUMN wkb_geometry TYPE GEOMETRY(MULTIPOLYGON, 4326) USING ST_Multi(wkb_geometry);\")\n",
        "\n",
        "conn.commit()\n",
        "cur.close()\n",
        "conn.close()\n",
        "\n",
        "print(\"Coluna 'wkb_geometry' alterada para MultiPolygon com sucesso!\")\n"
      ],
      "metadata": {
        "id": "ikVq12qtG4wo",
        "outputId": "e6bd8a30-b2c8-4bb8-94ce-2c0a91997fae",
        "colab": {
          "base_uri": "https://localhost:8080/"
        }
      },
      "execution_count": null,
      "outputs": [
        {
          "output_type": "stream",
          "name": "stdout",
          "text": [
            "Coluna 'wkb_geometry' alterada para MultiPolygon com sucesso!\n"
          ]
        }
      ]
    },
    {
      "cell_type": "code",
      "source": [
        "# Importar o shapefile para o PostgreSQL\n",
        "!ogr2ogr -f \"PostgreSQL\" PG:\"dbname=deltadb user=postgres password=postgres host=localhost\" \\\n",
        "    \"/content/data/conservation_units_amazon_biome.shp\" -nln conservation_units -overwrite -progress\n"
      ],
      "metadata": {
        "id": "wffzuk3WG6O4",
        "outputId": "48c277d3-f845-4d51-9294-ca710dd9dccf",
        "colab": {
          "base_uri": "https://localhost:8080/"
        }
      },
      "execution_count": null,
      "outputs": [
        {
          "output_type": "stream",
          "name": "stdout",
          "text": [
            "Warning 1: Geometry to be inserted is of type Multi Polygon, whereas the layer geometry type is Polygon.\n",
            "Insertion is likely to fail\n",
            "0...10...20...30...40...50...60...70...80...90...100 - done.\n",
            "ERROR 1: COPY statement failed.\n",
            "ERROR:  Geometry type (MultiPolygon) does not match column type (Polygon)\n",
            "CONTEXT:  COPY conservation_units, line 1, column wkb_geometry: \"010600002042120000080000000103000000010000000500000009027FF89B4F47C01AE119A52955EEBF829558B99A4F47C0...\"\n",
            "\n"
          ]
        }
      ]
    },
    {
      "cell_type": "code",
      "source": [
        "conn = psycopg2.connect(\"dbname=deltadb user=postgres password=postgres host=localhost\")\n",
        "cur = conn.cursor()\n",
        "\n",
        "# Verificar o tipo da coluna de geometria\n",
        "cur.execute(\"\"\"\n",
        "    SELECT column_name, udt_name\n",
        "    FROM information_schema.columns\n",
        "    WHERE table_name = 'conservation_units' AND column_name = 'wkb_geometry';\n",
        "\"\"\")\n",
        "\n",
        "coluna_geom = cur.fetchall()\n",
        "\n",
        "print(\"Tipo atual da coluna 'wkb_geometry':\", coluna_geom)\n",
        "\n",
        "cur.close()\n",
        "conn.close()\n"
      ],
      "metadata": {
        "id": "PwU7dEE0HG8E",
        "outputId": "5bee2ac5-8cd3-4530-a9a0-7633164060cc",
        "colab": {
          "base_uri": "https://localhost:8080/"
        }
      },
      "execution_count": null,
      "outputs": [
        {
          "output_type": "stream",
          "name": "stdout",
          "text": [
            "Tipo atual da coluna 'wkb_geometry': [('wkb_geometry', 'geometry')]\n"
          ]
        }
      ]
    },
    {
      "cell_type": "code",
      "source": [
        "conn = psycopg2.connect(\"dbname=deltadb user=postgres password=postgres host=localhost\")\n",
        "cur = conn.cursor()\n",
        "\n",
        "# Remover restrição de tipo antes de alterar\n",
        "cur.execute(\"ALTER TABLE conservation_units ALTER COLUMN wkb_geometry DROP NOT NULL;\")\n",
        "\n",
        "# Alterar o tipo de geometria para MULTIPOLYGON\n",
        "cur.execute(\"ALTER TABLE conservation_units ALTER COLUMN wkb_geometry TYPE GEOMETRY(MULTIPOLYGON, 4326) USING ST_Multi(wkb_geometry);\")\n",
        "\n",
        "conn.commit()\n",
        "cur.close()\n",
        "conn.close()\n",
        "\n",
        "print(\"Coluna 'wkb_geometry' alterada para MULTIPOLYGON com sucesso!\")\n"
      ],
      "metadata": {
        "id": "7ugx45YvHTNh",
        "outputId": "c75c7898-dd81-462c-c2f5-dbe28c856b2f",
        "colab": {
          "base_uri": "https://localhost:8080/"
        }
      },
      "execution_count": null,
      "outputs": [
        {
          "output_type": "stream",
          "name": "stdout",
          "text": [
            "Coluna 'wkb_geometry' alterada para MULTIPOLYGON com sucesso!\n"
          ]
        }
      ]
    },
    {
      "cell_type": "code",
      "source": [
        "# Importar o shapefile para o PostgreSQL\n",
        "!ogr2ogr -f \"PostgreSQL\" PG:\"dbname=deltadb user=postgres password=postgres host=localhost\" \\\n",
        "    \"/content/data/conservation_units_amazon_biome.shp\" -nln conservation_units -overwrite -progress\n"
      ],
      "metadata": {
        "id": "Y4YrT_sfHXBZ",
        "outputId": "b0e033ae-043a-447d-f2f3-5c94bdff53ad",
        "colab": {
          "base_uri": "https://localhost:8080/"
        }
      },
      "execution_count": null,
      "outputs": [
        {
          "output_type": "stream",
          "name": "stdout",
          "text": [
            "Warning 1: Geometry to be inserted is of type Multi Polygon, whereas the layer geometry type is Polygon.\n",
            "Insertion is likely to fail\n",
            "0...10...20...30...40...50...60...70...80...90...100 - done.\n",
            "ERROR 1: COPY statement failed.\n",
            "ERROR:  Geometry type (MultiPolygon) does not match column type (Polygon)\n",
            "CONTEXT:  COPY conservation_units, line 1, column wkb_geometry: \"010600002042120000080000000103000000010000000500000009027FF89B4F47C01AE119A52955EEBF829558B99A4F47C0...\"\n",
            "\n"
          ]
        }
      ]
    },
    {
      "cell_type": "code",
      "source": [
        "conn = psycopg2.connect(\"dbname=deltadb user=postgres password=postgres host=localhost\")\n",
        "cur = conn.cursor()\n",
        "\n",
        "# Verificar o tipo atual da coluna wkb_geometry\n",
        "cur.execute(\"\"\"\n",
        "    SELECT column_name, udt_name, data_type\n",
        "    FROM information_schema.columns\n",
        "    WHERE table_name = 'conservation_units' AND column_name = 'wkb_geometry';\n",
        "\"\"\")\n",
        "\n",
        "coluna_geom = cur.fetchall()\n",
        "\n",
        "print(\"Tipo atual da coluna 'wkb_geometry':\", coluna_geom)\n",
        "\n",
        "cur.close()\n",
        "conn.close()\n"
      ],
      "metadata": {
        "id": "FC1PAg8XHizl",
        "outputId": "e61539b4-3b84-461c-eb74-9eb0e9b4b4a5",
        "colab": {
          "base_uri": "https://localhost:8080/"
        }
      },
      "execution_count": null,
      "outputs": [
        {
          "output_type": "stream",
          "name": "stdout",
          "text": [
            "Tipo atual da coluna 'wkb_geometry': [('wkb_geometry', 'geometry', 'USER-DEFINED')]\n"
          ]
        }
      ]
    },
    {
      "cell_type": "code",
      "source": [
        "conn = psycopg2.connect(\"dbname=deltadb user=postgres password=postgres host=localhost\")\n",
        "cur = conn.cursor()\n",
        "\n",
        "# Verificar o tipo de geometria armazenado na coluna wkb_geometry\n",
        "cur.execute(\"\"\"\n",
        "    SELECT f_geometry_column, type\n",
        "    FROM geometry_columns\n",
        "    WHERE f_table_name = 'conservation_units';\n",
        "\"\"\")\n",
        "\n",
        "tipo_geometria = cur.fetchall()\n",
        "\n",
        "print(\"Tipo de geometria armazenado na tabela 'conservation_units':\", tipo_geometria)\n",
        "\n",
        "cur.close()\n",
        "conn.close()\n"
      ],
      "metadata": {
        "id": "ipd5pErcHsrT",
        "outputId": "1682a1b0-75a9-42a8-8511-dd5ad238aeab",
        "colab": {
          "base_uri": "https://localhost:8080/"
        }
      },
      "execution_count": null,
      "outputs": [
        {
          "output_type": "stream",
          "name": "stdout",
          "text": [
            "Tipo de geometria armazenado na tabela 'conservation_units': [('wkb_geometry', 'POLYGON')]\n"
          ]
        }
      ]
    },
    {
      "cell_type": "code",
      "source": [
        "conn = psycopg2.connect(\"dbname=deltadb user=postgres password=postgres host=localhost\")\n",
        "cur = conn.cursor()\n",
        "\n",
        "# Alterar a coluna wkb_geometry para aceitar MultiPolygon\n",
        "cur.execute(\"ALTER TABLE conservation_units ALTER COLUMN wkb_geometry TYPE GEOMETRY(MULTIPOLYGON, 4326) USING ST_Multi(wkb_geometry);\")\n",
        "\n",
        "conn.commit()\n",
        "cur.close()\n",
        "conn.close()\n",
        "\n",
        "print(\"Coluna 'wkb_geometry' alterada para MULTIPOLYGON com sucesso!\")\n"
      ],
      "metadata": {
        "id": "hjjKtUr3H-CK",
        "outputId": "95d9c6da-80ec-4a38-bc75-adba0f8410a2",
        "colab": {
          "base_uri": "https://localhost:8080/"
        }
      },
      "execution_count": null,
      "outputs": [
        {
          "output_type": "stream",
          "name": "stdout",
          "text": [
            "Coluna 'wkb_geometry' alterada para MULTIPOLYGON com sucesso!\n"
          ]
        }
      ]
    },
    {
      "cell_type": "code",
      "source": [
        "conn = psycopg2.connect(\"dbname=deltadb user=postgres password=postgres host=localhost\")\n",
        "cur = conn.cursor()\n",
        "\n",
        "# Apagar todos os registros da tabela antes da nova importação\n",
        "cur.execute(\"DELETE FROM conservation_units;\")\n",
        "\n",
        "conn.commit()\n",
        "cur.close()\n",
        "conn.close()\n",
        "\n",
        "print(\"Registros antigos apagados. A tabela está pronta para nova importação.\")\n"
      ],
      "metadata": {
        "id": "EoiZLkT7IDn1",
        "outputId": "2b44d327-dbad-4aa8-e2f7-0fdfc66f6828",
        "colab": {
          "base_uri": "https://localhost:8080/"
        }
      },
      "execution_count": null,
      "outputs": [
        {
          "output_type": "stream",
          "name": "stdout",
          "text": [
            "Registros antigos apagados. A tabela está pronta para nova importação.\n"
          ]
        }
      ]
    },
    {
      "cell_type": "code",
      "source": [
        "# Importar o shapefile para o PostgreSQL\n",
        "!ogr2ogr -f \"PostgreSQL\" PG:\"dbname=deltadb user=postgres password=postgres host=localhost\" \\\n",
        "    \"/content/data/conservation_units_amazon_biome.shp\" -nln conservation_units -overwrite -progress\n"
      ],
      "metadata": {
        "id": "ytyrf-n8IG06",
        "outputId": "969ed45a-7e90-43ab-e64f-b5845079576e",
        "colab": {
          "base_uri": "https://localhost:8080/"
        }
      },
      "execution_count": null,
      "outputs": [
        {
          "output_type": "stream",
          "name": "stdout",
          "text": [
            "Warning 1: Geometry to be inserted is of type Multi Polygon, whereas the layer geometry type is Polygon.\n",
            "Insertion is likely to fail\n",
            "0...10...20...30...40...50...60...70...80...90...100 - done.\n",
            "ERROR 1: COPY statement failed.\n",
            "ERROR:  Geometry type (MultiPolygon) does not match column type (Polygon)\n",
            "CONTEXT:  COPY conservation_units, line 1, column wkb_geometry: \"010600002042120000080000000103000000010000000500000009027FF89B4F47C01AE119A52955EEBF829558B99A4F47C0...\"\n",
            "\n"
          ]
        }
      ]
    },
    {
      "cell_type": "code",
      "source": [
        "conn = psycopg2.connect(\"dbname=deltadb user=postgres password=postgres host=localhost\")\n",
        "cur = conn.cursor()\n",
        "\n",
        "# Remover a tabela existente\n",
        "cur.execute(\"DROP TABLE IF EXISTS conservation_units;\")\n",
        "conn.commit()\n",
        "\n",
        "# Criar novamente a tabela com a coluna wkb_geometry corretamente definida como MULTIPOLYGON\n",
        "cur.execute(\"\"\"\n",
        "    CREATE TABLE conservation_units (\n",
        "        id SERIAL PRIMARY KEY,\n",
        "        nome VARCHAR(255),\n",
        "        categoria VARCHAR(255),\n",
        "        grupo VARCHAR(255),\n",
        "        esfera VARCHAR(255),\n",
        "        ano_cria VARCHAR(255),\n",
        "        wkb_geometry GEOMETRY(MULTIPOLYGON, 4326)\n",
        "    );\n",
        "\"\"\")\n",
        "\n",
        "conn.commit()\n",
        "cur.close()\n",
        "conn.close()\n",
        "\n",
        "print(\"Tabela 'conservation_units' recriada com sucesso com wkb_geometry como MULTIPOLYGON!\")\n"
      ],
      "metadata": {
        "id": "dOl2RkOZIceA",
        "outputId": "c725613b-ad64-4496-bbf0-bc525ac3f176",
        "colab": {
          "base_uri": "https://localhost:8080/"
        }
      },
      "execution_count": null,
      "outputs": [
        {
          "output_type": "stream",
          "name": "stdout",
          "text": [
            "Tabela 'conservation_units' recriada com sucesso com wkb_geometry como MULTIPOLYGON!\n"
          ]
        }
      ]
    },
    {
      "cell_type": "code",
      "source": [
        "# Importar o shapefile para o PostgreSQL\n",
        "!ogr2ogr -f \"PostgreSQL\" PG:\"dbname=deltadb user=postgres password=postgres host=localhost\" \\\n",
        "    \"/content/data/conservation_units_amazon_biome.shp\" -nln conservation_units -overwrite -progress\n"
      ],
      "metadata": {
        "id": "eUSTS454If3a",
        "outputId": "b50b8445-c56a-4790-baf6-a82b5e77b5e4",
        "colab": {
          "base_uri": "https://localhost:8080/"
        }
      },
      "execution_count": null,
      "outputs": [
        {
          "output_type": "stream",
          "name": "stdout",
          "text": [
            "Warning 1: Geometry to be inserted is of type Multi Polygon, whereas the layer geometry type is Polygon.\n",
            "Insertion is likely to fail\n",
            "0...10...20...30...40...50...60...70...80...90...100 - done.\n",
            "ERROR 1: COPY statement failed.\n",
            "ERROR:  Geometry type (MultiPolygon) does not match column type (Polygon)\n",
            "CONTEXT:  COPY conservation_units, line 1, column wkb_geometry: \"010600002042120000080000000103000000010000000500000009027FF89B4F47C01AE119A52955EEBF829558B99A4F47C0...\"\n",
            "\n"
          ]
        }
      ]
    },
    {
      "cell_type": "code",
      "source": [
        "conn = psycopg2.connect(\"dbname=deltadb user=postgres password=postgres host=localhost\")\n",
        "cur = conn.cursor()\n",
        "\n",
        "# Verificar se a tabela ainda existe\n",
        "cur.execute(\"\"\"\n",
        "    SELECT table_name\n",
        "    FROM information_schema.tables\n",
        "    WHERE table_schema = 'public' AND table_name = 'conservation_units';\n",
        "\"\"\")\n",
        "\n",
        "tabela_existe = cur.fetchall()\n",
        "\n",
        "cur.close()\n",
        "conn.close()\n",
        "\n",
        "if tabela_existe:\n",
        "    print(\"A tabela 'conservation_units' ainda existe!\")\n",
        "else:\n",
        "    print(\"A tabela 'conservation_units' não existe. Podemos criá-la do zero.\")\n"
      ],
      "metadata": {
        "id": "M1APex7TIywX",
        "outputId": "7e15f4c9-a229-4a64-9def-9f7926a93132",
        "colab": {
          "base_uri": "https://localhost:8080/"
        }
      },
      "execution_count": null,
      "outputs": [
        {
          "output_type": "stream",
          "name": "stdout",
          "text": [
            "A tabela 'conservation_units' ainda existe!\n"
          ]
        }
      ]
    },
    {
      "cell_type": "code",
      "source": [
        "import psycopg2\n",
        "\n",
        "# Conectar ao banco de dados\n",
        "conn = psycopg2.connect(\"dbname=deltadb user=postgres password=postgres host=localhost\")\n",
        "cur = conn.cursor()\n",
        "\n",
        "# Apagar a tabela antiga\n",
        "cur.execute(\"DROP TABLE IF EXISTS conservation_units;\")\n",
        "conn.commit()\n",
        "\n",
        "# Criar a tabela corretamente com MULTIPOLYGON\n",
        "cur.execute(\"\"\"\n",
        "    CREATE TABLE conservation_units (\n",
        "        id SERIAL PRIMARY KEY,\n",
        "        nome VARCHAR(255),\n",
        "        categoria VARCHAR(255),\n",
        "        grupo VARCHAR(255),\n",
        "        esfera VARCHAR(255),\n",
        "        ano_cria VARCHAR(255),\n",
        "        wkb_geometry GEOMETRY(MULTIPOLYGON, 4326)  -- MULTIPOLYGON DEFINITIVO\n",
        "    );\n",
        "\"\"\")\n",
        "\n",
        "conn.commit()\n",
        "cur.close()\n",
        "conn.close()\n",
        "\n",
        "print(\"Tabela 'conservation_units' recriada com MULTIPOLYGON com sucesso!\")\n"
      ],
      "metadata": {
        "id": "e00HJILnJJdD",
        "outputId": "c3ed9df4-4c43-41db-8b77-b37632832732",
        "colab": {
          "base_uri": "https://localhost:8080/"
        }
      },
      "execution_count": null,
      "outputs": [
        {
          "output_type": "stream",
          "name": "stdout",
          "text": [
            "Tabela 'conservation_units' recriada com MULTIPOLYGON com sucesso!\n"
          ]
        }
      ]
    },
    {
      "cell_type": "code",
      "source": [
        "!ogr2ogr -f \"PostgreSQL\" PG:\"dbname=deltadb user=postgres password=postgres host=localhost\" \\\n",
        "    \"/content/data/conservation_units_amazon_biome.shp\" -nln conservation_units -overwrite -progress\n"
      ],
      "metadata": {
        "id": "LtsAHLdcJwqm",
        "outputId": "9fd36bfe-27d6-4a91-8a71-3ac066485c95",
        "colab": {
          "base_uri": "https://localhost:8080/"
        }
      },
      "execution_count": null,
      "outputs": [
        {
          "output_type": "stream",
          "name": "stdout",
          "text": [
            "Warning 1: Geometry to be inserted is of type Multi Polygon, whereas the layer geometry type is Polygon.\n",
            "Insertion is likely to fail\n",
            "0...10...20...30...40...50...60...70...80...90...100 - done.\n",
            "ERROR 1: COPY statement failed.\n",
            "ERROR:  Geometry type (MultiPolygon) does not match column type (Polygon)\n",
            "CONTEXT:  COPY conservation_units, line 1, column wkb_geometry: \"010600002042120000080000000103000000010000000500000009027FF89B4F47C01AE119A52955EEBF829558B99A4F47C0...\"\n",
            "\n"
          ]
        }
      ]
    },
    {
      "cell_type": "code",
      "source": [
        "!ogr2ogr -f \"PostgreSQL\" PG:\"dbname=deltadb user=postgres password=postgres host=localhost\" \\\n",
        "    \"/content/data/conservation_units_amazon_biome.shp\" -nln conservation_units -overwrite -progress \\\n",
        "    -nlt MULTIPOLYGON\n"
      ],
      "metadata": {
        "id": "o4rDzuAnJzJ1",
        "outputId": "d49c9d2d-4e87-437e-d676-e9efe229bd8d",
        "colab": {
          "base_uri": "https://localhost:8080/"
        }
      },
      "execution_count": null,
      "outputs": [
        {
          "output_type": "stream",
          "name": "stdout",
          "text": [
            "0...10...20...30...40...50...60...70...80...90...100 - done.\n"
          ]
        }
      ]
    },
    {
      "cell_type": "code",
      "source": [
        "conn = psycopg2.connect(\"dbname=deltadb user=postgres password=postgres host=localhost\")\n",
        "cur = conn.cursor()\n",
        "\n",
        "# Contar quantos registros existem na tabela\n",
        "cur.execute(\"SELECT COUNT(*) FROM conservation_units;\")\n",
        "num_registros = cur.fetchone()[0]\n",
        "\n",
        "cur.close()\n",
        "conn.close()\n",
        "\n",
        "print(f\"Número de registros na tabela 'conservation_units': {num_registros}\")\n"
      ],
      "metadata": {
        "id": "RnachiwjJ3s1",
        "outputId": "5ff92341-94e4-41a1-a6e4-f6db0a28f186",
        "colab": {
          "base_uri": "https://localhost:8080/"
        }
      },
      "execution_count": null,
      "outputs": [
        {
          "output_type": "stream",
          "name": "stdout",
          "text": [
            "Número de registros na tabela 'conservation_units': 304\n"
          ]
        }
      ]
    },
    {
      "cell_type": "code",
      "source": [
        "conn = psycopg2.connect(\"dbname=deltadb user=postgres password=postgres host=localhost\")\n",
        "cur = conn.cursor()\n",
        "\n",
        "# Contar quantos polígonos da conservação intersectam a área de estudo\n",
        "cur.execute(\"\"\"\n",
        "    SELECT COUNT(DISTINCT c.id)\n",
        "    FROM conservation_units c, area_estudo a\n",
        "    WHERE ST_Intersects(c.wkb_geometry, a.wkb_geometry);\n",
        "\"\"\")\n",
        "\n",
        "num_poligonos = cur.fetchone()[0]\n",
        "\n",
        "cur.close()\n",
        "conn.close()\n",
        "\n",
        "print(f\"Número de polígonos das unidades de conservação dentro da área de estudo: {num_poligonos}\")\n"
      ],
      "metadata": {
        "id": "6guwmaAoKUzc",
        "outputId": "b6118a4e-35d2-414c-a496-253dc84dd81b",
        "colab": {
          "base_uri": "https://localhost:8080/"
        }
      },
      "execution_count": null,
      "outputs": [
        {
          "output_type": "stream",
          "name": "stdout",
          "text": [
            "Número de polígonos das unidades de conservação dentro da área de estudo: 8\n"
          ]
        }
      ]
    },
    {
      "cell_type": "code",
      "source": [
        "conn = psycopg2.connect(\"dbname=deltadb user=postgres password=postgres host=localhost\")\n",
        "cur = conn.cursor()\n",
        "\n",
        "# Calcular a área total dos polígonos de conservação dentro da área de estudo\n",
        "cur.execute(\"\"\"\n",
        "    SELECT SUM(ST_Area(ST_Transform(ST_Intersection(c.wkb_geometry, a.wkb_geometry), 3857))) / 1000000\n",
        "    FROM conservation_units c, area_estudo a\n",
        "    WHERE ST_Intersects(c.wkb_geometry, a.wkb_geometry);\n",
        "\"\"\")\n",
        "\n",
        "area_total_km2 = cur.fetchone()[0]\n",
        "\n",
        "cur.close()\n",
        "conn.close()\n",
        "\n",
        "print(f\"Área total das unidades de conservação dentro da área de estudo: {area_total_km2:.2f} km²\")\n"
      ],
      "metadata": {
        "id": "4bEndpPWKhyT",
        "outputId": "1bdc88a3-5e74-49fc-c4ce-5741901a92e3",
        "colab": {
          "base_uri": "https://localhost:8080/"
        }
      },
      "execution_count": null,
      "outputs": [
        {
          "output_type": "stream",
          "name": "stdout",
          "text": [
            "Área total das unidades de conservação dentro da área de estudo: 19199.65 km²\n"
          ]
        }
      ]
    },
    {
      "cell_type": "code",
      "source": [
        "conn = psycopg2.connect(\"dbname=deltadb user=postgres password=postgres host=localhost\")\n",
        "cur = conn.cursor()\n",
        "\n",
        "# Selecionar os IDs dos polígonos que intersectam a área de estudo\n",
        "cur.execute(\"\"\"\n",
        "    SELECT DISTINCT c.id\n",
        "    FROM conservation_units c, area_estudo a\n",
        "    WHERE ST_Intersects(c.wkb_geometry, a.wkb_geometry);\n",
        "\"\"\")\n",
        "\n",
        "poligonos_intersectados = cur.fetchall()\n",
        "\n",
        "cur.close()\n",
        "conn.close()\n",
        "\n",
        "# Mostrar os IDs dos polígonos encontrados\n",
        "print(\"IDs dos polígonos das Unidades de Conservação dentro da área de estudo:\")\n",
        "print([p[0] for p in poligonos_intersectados])\n"
      ],
      "metadata": {
        "id": "8sVOcu5mLWUj",
        "outputId": "b759f649-3cb8-4af1-bc89-059c6dfdc1e1",
        "colab": {
          "base_uri": "https://localhost:8080/"
        }
      },
      "execution_count": null,
      "outputs": [
        {
          "output_type": "stream",
          "name": "stdout",
          "text": [
            "IDs dos polígonos das Unidades de Conservação dentro da área de estudo:\n",
            "[Decimal('248'), Decimal('744'), Decimal('1204'), Decimal('1226'), Decimal('1467'), Decimal('1831'), Decimal('1860'), Decimal('1986')]\n"
          ]
        }
      ]
    },
    {
      "cell_type": "code",
      "source": [
        "conn = psycopg2.connect(\"dbname=deltadb user=postgres password=postgres host=localhost\")\n",
        "cur = conn.cursor()\n",
        "\n",
        "# Contar apenas os polígonos completamente dentro da área de estudo\n",
        "cur.execute(\"\"\"\n",
        "    SELECT COUNT(DISTINCT c.id)\n",
        "    FROM conservation_units c, area_estudo a\n",
        "    WHERE ST_Within(c.wkb_geometry, a.wkb_geometry);\n",
        "\"\"\")\n",
        "\n",
        "num_poligonos_within = cur.fetchone()[0]\n",
        "\n",
        "cur.close()\n",
        "conn.close()\n",
        "\n",
        "print(f\"Número de polígonos COMPLETAMENTE dentro da área de estudo: {num_poligonos_within}\")\n"
      ],
      "metadata": {
        "id": "KbClWcHULgB9",
        "outputId": "7115702b-60f5-4122-89bf-9e1dbd9a089f",
        "colab": {
          "base_uri": "https://localhost:8080/"
        }
      },
      "execution_count": null,
      "outputs": [
        {
          "output_type": "stream",
          "name": "stdout",
          "text": [
            "Número de polígonos COMPLETAMENTE dentro da área de estudo: 4\n"
          ]
        }
      ]
    },
    {
      "cell_type": "code",
      "source": [
        "!ogr2ogr -f \"ESRI Shapefile\" /content/data/unidades_conservacao_intersectadas.shp \\\n",
        "    PG:\"dbname=deltadb user=postgres password=postgres host=localhost\" \\\n",
        "    -sql \"SELECT * FROM conservation_units WHERE wkb_geometry && (SELECT ST_Extent(wkb_geometry) FROM area_estudo) AND ST_Intersects(wkb_geometry, (SELECT wkb_geometry FROM area_estudo))\"\n"
      ],
      "metadata": {
        "id": "Y1pbuYn-L28f"
      },
      "execution_count": null,
      "outputs": []
    },
    {
      "cell_type": "code",
      "source": [
        "!ls /content/data/\n"
      ],
      "metadata": {
        "id": "dq5q-L_zMpA9",
        "outputId": "623742df-d7e6-4476-8abe-96669ef8a137",
        "colab": {
          "base_uri": "https://localhost:8080/"
        }
      },
      "execution_count": null,
      "outputs": [
        {
          "output_type": "stream",
          "name": "stdout",
          "text": [
            "conservation_units_amazon_biome.dbf  unidades_conservacao_intersectadas.dbf\n",
            "conservation_units_amazon_biome.prj  unidades_conservacao_intersectadas.prj\n",
            "conservation_units_amazon_biome.shp  unidades_conservacao_intersectadas.shp\n",
            "conservation_units_amazon_biome.shx  unidades_conservacao_intersectadas.shx\n"
          ]
        }
      ]
    },
    {
      "cell_type": "code",
      "source": [
        "from google.colab import files\n",
        "\n",
        "# Compactar os arquivos do shapefile em um único arquivo ZIP\n",
        "!zip -j /content/unidades_conservacao_intersectadas.zip /content/data/unidades_conservacao_intersectadas.*\n",
        "\n",
        "# Fazer o download do arquivo ZIP\n",
        "files.download(\"/content/unidades_conservacao_intersectadas.zip\")\n"
      ],
      "metadata": {
        "id": "HxdTu_f8M5dh",
        "outputId": "b05bdf2a-0223-4959-d9d9-9f1e94e3b3c4",
        "colab": {
          "base_uri": "https://localhost:8080/",
          "height": 86
        }
      },
      "execution_count": null,
      "outputs": [
        {
          "output_type": "stream",
          "name": "stdout",
          "text": [
            "  adding: unidades_conservacao_intersectadas.dbf (deflated 95%)\n",
            "  adding: unidades_conservacao_intersectadas.prj (deflated 17%)\n",
            "  adding: unidades_conservacao_intersectadas.shp (deflated 18%)\n",
            "  adding: unidades_conservacao_intersectadas.shx (deflated 31%)\n"
          ]
        },
        {
          "output_type": "display_data",
          "data": {
            "text/plain": [
              "<IPython.core.display.Javascript object>"
            ],
            "application/javascript": [
              "\n",
              "    async function download(id, filename, size) {\n",
              "      if (!google.colab.kernel.accessAllowed) {\n",
              "        return;\n",
              "      }\n",
              "      const div = document.createElement('div');\n",
              "      const label = document.createElement('label');\n",
              "      label.textContent = `Downloading \"${filename}\": `;\n",
              "      div.appendChild(label);\n",
              "      const progress = document.createElement('progress');\n",
              "      progress.max = size;\n",
              "      div.appendChild(progress);\n",
              "      document.body.appendChild(div);\n",
              "\n",
              "      const buffers = [];\n",
              "      let downloaded = 0;\n",
              "\n",
              "      const channel = await google.colab.kernel.comms.open(id);\n",
              "      // Send a message to notify the kernel that we're ready.\n",
              "      channel.send({})\n",
              "\n",
              "      for await (const message of channel.messages) {\n",
              "        // Send a message to notify the kernel that we're ready.\n",
              "        channel.send({})\n",
              "        if (message.buffers) {\n",
              "          for (const buffer of message.buffers) {\n",
              "            buffers.push(buffer);\n",
              "            downloaded += buffer.byteLength;\n",
              "            progress.value = downloaded;\n",
              "          }\n",
              "        }\n",
              "      }\n",
              "      const blob = new Blob(buffers, {type: 'application/binary'});\n",
              "      const a = document.createElement('a');\n",
              "      a.href = window.URL.createObjectURL(blob);\n",
              "      a.download = filename;\n",
              "      div.appendChild(a);\n",
              "      a.click();\n",
              "      div.remove();\n",
              "    }\n",
              "  "
            ]
          },
          "metadata": {}
        },
        {
          "output_type": "display_data",
          "data": {
            "text/plain": [
              "<IPython.core.display.Javascript object>"
            ],
            "application/javascript": [
              "download(\"download_73678d7d-5b9b-4d18-9800-611088e3cf85\", \"unidades_conservacao_intersectadas.zip\", 447995)"
            ]
          },
          "metadata": {}
        }
      ]
    },
    {
      "cell_type": "code",
      "source": [
        "# Verificar o número de polígonos no Shapefile exportado\n",
        "!ogrinfo -al -geom=summary /content/data/unidades_conservacao_intersectadas.shp | grep \"POLYGON\"\n"
      ],
      "metadata": {
        "id": "04zrBwmrN-tY",
        "outputId": "06d84a42-959e-4fbf-d5ef-d178f8ba63e0",
        "colab": {
          "base_uri": "https://localhost:8080/"
        }
      },
      "execution_count": null,
      "outputs": [
        {
          "output_type": "stream",
          "name": "stdout",
          "text": [
            "  MULTIPOLYGON : 4 geometries:\n",
            "POLYGON : 7267 points\n",
            "POLYGON : 1355 points\n",
            "POLYGON : 1408 points\n",
            "POLYGON : 1785 points\n",
            "  POLYGON : 3301 points\n",
            "  POLYGON : 1830 points\n",
            "  POLYGON : 34 points\n",
            "  POLYGON : 317 points\n",
            "  MULTIPOLYGON : 194 geometries:\n",
            "POLYGON : 270 points, 1 inner rings (4 points)\n",
            "POLYGON : 10 points\n",
            "POLYGON : 11 points\n",
            "POLYGON : 29 points\n",
            "POLYGON : 83 points\n",
            "POLYGON : 13 points\n",
            "POLYGON : 39 points\n",
            "POLYGON : 209 points\n",
            "POLYGON : 516 points\n",
            "POLYGON : 207 points\n",
            "POLYGON : 213 points\n",
            "POLYGON : 9 points\n",
            "POLYGON : 3552 points, 11 inner rings (5269 points, 5 points, 14 points, 4 points, 14 points, 9 points, 6 points, 7 points, 7 points, 10 points, 210 points)\n",
            "POLYGON : 180 points\n",
            "POLYGON : 102 points, 1 inner rings (25 points)\n",
            "POLYGON : 166 points\n",
            "POLYGON : 151 points, 1 inner rings (132 points)\n",
            "POLYGON : 156 points\n",
            "POLYGON : 151 points\n",
            "POLYGON : 112 points\n",
            "POLYGON : 140 points\n",
            "POLYGON : 47 points\n",
            "POLYGON : 51 points\n",
            "POLYGON : 94 points\n",
            "POLYGON : 48 points\n",
            "POLYGON : 110 points\n",
            "POLYGON : 51 points\n",
            "POLYGON : 67 points\n",
            "POLYGON : 42 points\n",
            "POLYGON : 68 points\n",
            "POLYGON : 48 points\n",
            "POLYGON : 62 points\n",
            "POLYGON : 78 points\n",
            "POLYGON : 41 points\n",
            "POLYGON : 44 points\n",
            "POLYGON : 72 points\n",
            "POLYGON : 42 points\n",
            "POLYGON : 51 points\n",
            "POLYGON : 35 points\n",
            "POLYGON : 45 points\n",
            "POLYGON : 62 points\n",
            "POLYGON : 48 points\n",
            "POLYGON : 39 points\n",
            "POLYGON : 40 points\n",
            "POLYGON : 29 points\n",
            "POLYGON : 38 points\n",
            "POLYGON : 43 points\n",
            "POLYGON : 30 points\n",
            "POLYGON : 32 points\n",
            "POLYGON : 25 points\n",
            "POLYGON : 58 points\n",
            "POLYGON : 26 points\n",
            "POLYGON : 37 points\n",
            "POLYGON : 37 points\n",
            "POLYGON : 27 points\n",
            "POLYGON : 31 points\n",
            "POLYGON : 29 points\n",
            "POLYGON : 25 points\n",
            "POLYGON : 22 points\n",
            "POLYGON : 24 points\n",
            "POLYGON : 18 points\n",
            "POLYGON : 26 points\n",
            "POLYGON : 19 points\n",
            "POLYGON : 35 points\n",
            "POLYGON : 26 points\n",
            "POLYGON : 26 points\n",
            "POLYGON : 24 points\n",
            "POLYGON : 56 points\n",
            "POLYGON : 20 points\n",
            "POLYGON : 25 points\n",
            "POLYGON : 20 points\n",
            "POLYGON : 30 points\n",
            "POLYGON : 30 points\n",
            "POLYGON : 27 points\n",
            "POLYGON : 37 points\n",
            "POLYGON : 27 points\n",
            "POLYGON : 27 points\n",
            "POLYGON : 27 points\n",
            "POLYGON : 17 points\n",
            "POLYGON : 48 points\n",
            "POLYGON : 20 points\n",
            "POLYGON : 20 points\n",
            "POLYGON : 22 points\n",
            "POLYGON : 13 points\n",
            "POLYGON : 16 points\n",
            "POLYGON : 22 points\n",
            "POLYGON : 15 points\n",
            "POLYGON : 35 points\n",
            "POLYGON : 17 points\n",
            "POLYGON : 19 points\n",
            "POLYGON : 21 points\n",
            "POLYGON : 17 points\n",
            "POLYGON : 35 points\n",
            "POLYGON : 18 points\n",
            "POLYGON : 26 points\n",
            "POLYGON : 25 points\n",
            "POLYGON : 15 points\n",
            "POLYGON : 19 points\n",
            "POLYGON : 28 points\n",
            "POLYGON : 32 points\n",
            "POLYGON : 14 points\n",
            "POLYGON : 23 points\n",
            "POLYGON : 18 points\n",
            "POLYGON : 16 points\n",
            "POLYGON : 13 points\n",
            "POLYGON : 21 points\n",
            "POLYGON : 17 points\n",
            "POLYGON : 16 points\n",
            "POLYGON : 17 points\n",
            "POLYGON : 15 points\n",
            "POLYGON : 16 points\n",
            "POLYGON : 28 points\n",
            "POLYGON : 14 points\n",
            "POLYGON : 25 points\n",
            "POLYGON : 15 points\n",
            "POLYGON : 11 points\n",
            "POLYGON : 25 points\n",
            "POLYGON : 12 points\n",
            "POLYGON : 15 points\n",
            "POLYGON : 11 points\n",
            "POLYGON : 22 points\n",
            "POLYGON : 11 points\n",
            "POLYGON : 10 points\n",
            "POLYGON : 14 points\n",
            "POLYGON : 12 points\n",
            "POLYGON : 20 points\n",
            "POLYGON : 11 points\n",
            "POLYGON : 18 points\n",
            "POLYGON : 10 points\n",
            "POLYGON : 12 points\n",
            "POLYGON : 11 points\n",
            "POLYGON : 14 points\n",
            "POLYGON : 15 points\n",
            "POLYGON : 10 points\n",
            "POLYGON : 10 points\n",
            "POLYGON : 17 points\n",
            "POLYGON : 10 points\n",
            "POLYGON : 18 points\n",
            "POLYGON : 17 points\n",
            "POLYGON : 20 points\n",
            "POLYGON : 14 points\n",
            "POLYGON : 19 points\n",
            "POLYGON : 10 points\n",
            "POLYGON : 10 points\n",
            "POLYGON : 10 points\n",
            "POLYGON : 9 points\n",
            "POLYGON : 10 points\n",
            "POLYGON : 15 points\n",
            "POLYGON : 31 points\n",
            "POLYGON : 15 points\n",
            "POLYGON : 16 points\n",
            "POLYGON : 15 points\n",
            "POLYGON : 9 points\n",
            "POLYGON : 13 points\n",
            "POLYGON : 11 points\n",
            "POLYGON : 24 points\n",
            "POLYGON : 12 points\n",
            "POLYGON : 10 points\n",
            "POLYGON : 19 points\n",
            "POLYGON : 11 points\n",
            "POLYGON : 9 points\n",
            "POLYGON : 8 points\n",
            "POLYGON : 14 points\n",
            "POLYGON : 9 points\n",
            "POLYGON : 11 points\n",
            "POLYGON : 10 points\n",
            "POLYGON : 11 points\n",
            "POLYGON : 9 points\n",
            "POLYGON : 10 points\n",
            "POLYGON : 12 points\n",
            "POLYGON : 17 points\n",
            "POLYGON : 10 points\n",
            "POLYGON : 10 points\n",
            "POLYGON : 10 points\n",
            "POLYGON : 17 points\n",
            "POLYGON : 11 points\n",
            "POLYGON : 20 points\n",
            "POLYGON : 10 points\n",
            "POLYGON : 6 points\n",
            "POLYGON : 11 points\n",
            "POLYGON : 14 points\n",
            "POLYGON : 18 points\n",
            "POLYGON : 12 points\n",
            "POLYGON : 12 points\n",
            "POLYGON : 8 points\n",
            "POLYGON : 10 points\n",
            "POLYGON : 24 points\n",
            "POLYGON : 8 points\n",
            "POLYGON : 18 points\n",
            "POLYGON : 9 points\n",
            "POLYGON : 7 points\n",
            "POLYGON : 8 points\n",
            "POLYGON : 15 points\n",
            "POLYGON : 9 points\n",
            "  POLYGON : 124 points\n",
            "  POLYGON : 288 points\n"
          ]
        }
      ]
    },
    {
      "cell_type": "code",
      "source": [
        "conn = psycopg2.connect(\"dbname=deltadb user=postgres password=postgres host=localhost\")\n",
        "cur = conn.cursor()\n",
        "\n",
        "# Contar cada polígono individualmente\n",
        "cur.execute(\"\"\"\n",
        "    SELECT COUNT(*)\n",
        "    FROM (\n",
        "        SELECT (ST_Dump(c.wkb_geometry)).geom\n",
        "        FROM conservation_units c, area_estudo a\n",
        "        WHERE ST_Intersects(c.wkb_geometry, a.wkb_geometry)\n",
        "    ) AS subquery;\n",
        "\"\"\")\n",
        "\n",
        "num_poligonos_corrigido = cur.fetchone()[0]\n",
        "\n",
        "cur.close()\n",
        "conn.close()\n",
        "\n",
        "print(f\"Número correto de polígonos individuais dentro da área de estudo: {num_poligonos_corrigido}\")\n"
      ],
      "metadata": {
        "id": "ZQ1955QSOOPl",
        "outputId": "0697acba-3482-4aa3-909d-25ad7186721d",
        "colab": {
          "base_uri": "https://localhost:8080/"
        }
      },
      "execution_count": null,
      "outputs": [
        {
          "output_type": "stream",
          "name": "stdout",
          "text": [
            "Número correto de polígonos individuais dentro da área de estudo: 204\n"
          ]
        }
      ]
    },
    {
      "cell_type": "code",
      "source": [
        "conn = psycopg2.connect(\"dbname=deltadb user=postgres password=postgres host=localhost\")\n",
        "cur = conn.cursor()\n",
        "\n",
        "# Calcular a área total corrigida com ST_Dump e conversão para metros\n",
        "cur.execute(\"\"\"\n",
        "    SELECT SUM(ST_Area(ST_Transform((ST_Dump(ST_Intersection(c.wkb_geometry, a.wkb_geometry))).geom, 3857))) / 1000000\n",
        "    FROM conservation_units c, area_estudo a\n",
        "    WHERE ST_Intersects(c.wkb_geometry, a.wkb_geometry);\n",
        "\"\"\")\n",
        "\n",
        "area_total_km2 = cur.fetchone()[0]\n",
        "\n",
        "cur.close()\n",
        "conn.close()\n",
        "\n",
        "print(f\"Área total das Unidades de Conservação dentro da área de estudo: {area_total_km2:.2f} km²\")\n"
      ],
      "metadata": {
        "id": "A5mVz2LZOpR5",
        "outputId": "33542ac3-473e-4fd3-c596-16a1573907b3",
        "colab": {
          "base_uri": "https://localhost:8080/",
          "height": 263
        }
      },
      "execution_count": null,
      "outputs": [
        {
          "output_type": "error",
          "ename": "FeatureNotSupported",
          "evalue": "aggregate function calls cannot contain set-returning function calls\nLINE 2:     SELECT SUM(ST_Area(ST_Transform((ST_Dump(ST_Intersection...\n                                             ^\nHINT:  You might be able to move the set-returning function into a LATERAL FROM item.\n",
          "traceback": [
            "\u001b[0;31m---------------------------------------------------------------------------\u001b[0m",
            "\u001b[0;31mFeatureNotSupported\u001b[0m                       Traceback (most recent call last)",
            "\u001b[0;32m<ipython-input-58-52921ab51e4d>\u001b[0m in \u001b[0;36m<cell line: 0>\u001b[0;34m()\u001b[0m\n\u001b[1;32m      3\u001b[0m \u001b[0;34m\u001b[0m\u001b[0m\n\u001b[1;32m      4\u001b[0m \u001b[0;31m# Calcular a área total corrigida com ST_Dump e conversão para metros\u001b[0m\u001b[0;34m\u001b[0m\u001b[0;34m\u001b[0m\u001b[0m\n\u001b[0;32m----> 5\u001b[0;31m cur.execute(\"\"\"\n\u001b[0m\u001b[1;32m      6\u001b[0m     \u001b[0mSELECT\u001b[0m \u001b[0mSUM\u001b[0m\u001b[0;34m(\u001b[0m\u001b[0mST_Area\u001b[0m\u001b[0;34m(\u001b[0m\u001b[0mST_Transform\u001b[0m\u001b[0;34m(\u001b[0m\u001b[0;34m(\u001b[0m\u001b[0mST_Dump\u001b[0m\u001b[0;34m(\u001b[0m\u001b[0mST_Intersection\u001b[0m\u001b[0;34m(\u001b[0m\u001b[0mc\u001b[0m\u001b[0;34m.\u001b[0m\u001b[0mwkb_geometry\u001b[0m\u001b[0;34m,\u001b[0m \u001b[0ma\u001b[0m\u001b[0;34m.\u001b[0m\u001b[0mwkb_geometry\u001b[0m\u001b[0;34m)\u001b[0m\u001b[0;34m)\u001b[0m\u001b[0;34m)\u001b[0m\u001b[0;34m.\u001b[0m\u001b[0mgeom\u001b[0m\u001b[0;34m,\u001b[0m \u001b[0;36m3857\u001b[0m\u001b[0;34m)\u001b[0m\u001b[0;34m)\u001b[0m\u001b[0;34m)\u001b[0m \u001b[0;34m/\u001b[0m \u001b[0;36m1000000\u001b[0m\u001b[0;34m\u001b[0m\u001b[0;34m\u001b[0m\u001b[0m\n\u001b[1;32m      7\u001b[0m     \u001b[0mFROM\u001b[0m \u001b[0mconservation_units\u001b[0m \u001b[0mc\u001b[0m\u001b[0;34m,\u001b[0m \u001b[0marea_estudo\u001b[0m \u001b[0ma\u001b[0m\u001b[0;34m\u001b[0m\u001b[0;34m\u001b[0m\u001b[0m\n",
            "\u001b[0;31mFeatureNotSupported\u001b[0m: aggregate function calls cannot contain set-returning function calls\nLINE 2:     SELECT SUM(ST_Area(ST_Transform((ST_Dump(ST_Intersection...\n                                             ^\nHINT:  You might be able to move the set-returning function into a LATERAL FROM item.\n"
          ]
        }
      ]
    },
    {
      "cell_type": "code",
      "source": [
        "conn = psycopg2.connect(\"dbname=deltadb user=postgres password=postgres host=localhost\")\n",
        "cur = conn.cursor()\n",
        "\n",
        "# Calcular a área total corretamente com LATERAL JOIN para evitar erro de agregação\n",
        "cur.execute(\"\"\"\n",
        "    SELECT SUM(ST_Area(ST_Transform(d.geom, 3857))) / 1000000\n",
        "    FROM conservation_units c, area_estudo a,\n",
        "    LATERAL ST_Dump(ST_Intersection(c.wkb_geometry, a.wkb_geometry)) AS d\n",
        "    WHERE ST_Intersects(c.wkb_geometry, a.wkb_geometry);\n",
        "\"\"\")\n",
        "\n",
        "area_total_km2 = cur.fetchone()[0]\n",
        "\n",
        "cur.close()\n",
        "conn.close()\n",
        "\n",
        "print(f\"Área total das Unidades de Conservação dentro da área de estudo: {area_total_km2:.2f} km²\")\n"
      ],
      "metadata": {
        "id": "Mp7N50uCOzxO",
        "outputId": "f6993dd4-fcc3-42aa-955e-6906d17e2dc3",
        "colab": {
          "base_uri": "https://localhost:8080/"
        }
      },
      "execution_count": null,
      "outputs": [
        {
          "output_type": "stream",
          "name": "stdout",
          "text": [
            "Área total das Unidades de Conservação dentro da área de estudo: 19199.65 km²\n"
          ]
        }
      ]
    },
    {
      "cell_type": "code",
      "source": [
        "conn = psycopg2.connect(\"dbname=deltadb user=postgres password=postgres host=localhost\")\n",
        "cur = conn.cursor()\n",
        "\n",
        "# Calcular a área SEM ST_Dump (considerando apenas os objetos MULTIPOLYGON inteiros)\n",
        "cur.execute(\"\"\"\n",
        "    SELECT SUM(ST_Area(ST_Transform(ST_Intersection(c.wkb_geometry, a.wkb_geometry), 3857))) / 1000000\n",
        "    FROM conservation_units c, area_estudo a\n",
        "    WHERE ST_Intersects(c.wkb_geometry, a.wkb_geometry);\n",
        "\"\"\")\n",
        "area_sem_dump = cur.fetchone()[0]\n",
        "\n",
        "# Calcular a área COM ST_Dump (considerando polígonos individuais)\n",
        "cur.execute(\"\"\"\n",
        "    SELECT SUM(ST_Area(ST_Transform(d.geom, 3857))) / 1000000\n",
        "    FROM conservation_units c, area_estudo a,\n",
        "    LATERAL ST_Dump(ST_Intersection(c.wkb_geometry, a.wkb_geometry)) AS d\n",
        "    WHERE ST_Intersects(c.wkb_geometry, a.wkb_geometry);\n",
        "\"\"\")\n",
        "area_com_dump = cur.fetchone()[0]\n",
        "\n",
        "cur.close()\n",
        "conn.close()\n",
        "\n",
        "print(f\"Área total SEM ST_Dump: {area_sem_dump:.2f} km²\")\n",
        "print(f\"Área total COM ST_Dump: {area_com_dump:.2f} km²\")\n"
      ],
      "metadata": {
        "id": "BMEyTe-9PPRs",
        "outputId": "44cbdb1a-4f8e-4978-88ad-11cd0f28c26c",
        "colab": {
          "base_uri": "https://localhost:8080/"
        }
      },
      "execution_count": null,
      "outputs": [
        {
          "output_type": "stream",
          "name": "stdout",
          "text": [
            "Área total SEM ST_Dump: 19199.65 km²\n",
            "Área total COM ST_Dump: 19199.65 km²\n"
          ]
        }
      ]
    },
    {
      "cell_type": "code",
      "source": [
        "conn = psycopg2.connect(\"dbname=deltadb user=postgres password=postgres host=localhost\")\n",
        "cur = conn.cursor()\n",
        "\n",
        "# Listar as áreas individuais\n",
        "cur.execute(\"\"\"\n",
        "    SELECT ST_Area(ST_Transform(d.geom, 3857)) / 1000000 AS area_km2\n",
        "    FROM conservation_units c, area_estudo a,\n",
        "    LATERAL ST_Dump(ST_Intersection(c.wkb_geometry, a.wkb_geometry)) AS d\n",
        "    WHERE ST_Intersects(c.wkb_geometry, a.wkb_geometry);\n",
        "\"\"\")\n",
        "\n",
        "areas = cur.fetchall()\n",
        "cur.close()\n",
        "conn.close()\n",
        "\n",
        "# Mostrar as primeiras 10 áreas para conferir\n",
        "print(\"Primeiras 10 áreas individuais (km²):\")\n",
        "print([round(area[0], 2) for area in areas[:10]])\n",
        "\n",
        "# Somar todas as áreas e conferir se bate com o total\n",
        "soma_areas = sum(area[0] for area in areas)\n",
        "print(f\"Soma das áreas individuais: {soma_areas:.2f} km²\")\n"
      ],
      "metadata": {
        "id": "3aFxGOr7PUxq",
        "outputId": "9c2088dc-ae77-4701-b504-914a44a6301a",
        "colab": {
          "base_uri": "https://localhost:8080/"
        }
      },
      "execution_count": null,
      "outputs": [
        {
          "output_type": "stream",
          "name": "stdout",
          "text": [
            "Primeiras 10 áreas individuais (km²):\n",
            "[15.99, 877.01, 87.08, 0.14, 0.99, 0.09, 1.9, 0.03, 19.21, 1.72]\n",
            "Soma das áreas individuais: 19199.65 km²\n"
          ]
        }
      ]
    },
    {
      "cell_type": "code",
      "source": [
        "conn = psycopg2.connect(\"dbname=deltadb user=postgres password=postgres host=localhost\")\n",
        "cur = conn.cursor()\n",
        "\n",
        "# Listar as áreas individuais\n",
        "cur.execute(\"\"\"\n",
        "    SELECT ST_Area(ST_Transform(d.geom, 3857)) / 1000000 AS area_km2\n",
        "    FROM conservation_units c, area_estudo a,\n",
        "    LATERAL ST_Dump(ST_Intersection(c.wkb_geometry, a.wkb_geometry)) AS d\n",
        "    WHERE ST_Intersects(c.wkb_geometry, a.wkb_geometry);\n",
        "\"\"\")\n",
        "\n",
        "areas = cur.fetchall()\n",
        "cur.close()\n",
        "conn.close()\n",
        "\n",
        "# Mostrar as primeiras 10 áreas para conferir\n",
        "print(\"Primeiras 10 áreas individuais (km²):\")\n",
        "print([round(area[0], 2) for area in areas[:10]])\n",
        "\n",
        "# Somar todas as áreas e conferir se bate com o total\n",
        "soma_areas = sum(area[0] for area in areas)\n",
        "print(f\"Soma das áreas individuais: {soma_areas:.2f} km²\")\n"
      ],
      "metadata": {
        "id": "9a0Y8cjyPxVv",
        "outputId": "7f1bbe19-36bd-4ee5-c3cd-ed40cd0c2040",
        "colab": {
          "base_uri": "https://localhost:8080/"
        }
      },
      "execution_count": null,
      "outputs": [
        {
          "output_type": "stream",
          "name": "stdout",
          "text": [
            "Primeiras 10 áreas individuais (km²):\n",
            "[15.99, 877.01, 87.08, 0.14, 0.99, 0.09, 1.9, 0.03, 19.21, 1.72]\n",
            "Soma das áreas individuais: 19199.65 km²\n"
          ]
        }
      ]
    },
    {
      "cell_type": "code",
      "source": [
        "import pandas as pd\n",
        "\n",
        "conn = psycopg2.connect(\"dbname=deltadb user=postgres password=postgres host=localhost\")\n",
        "cur = conn.cursor()\n",
        "\n",
        "# Contar número de polígonos por categoria\n",
        "cur.execute(\"\"\"\n",
        "    SELECT c.categoria, COUNT(*)\n",
        "    FROM conservation_units c, area_estudo a\n",
        "    WHERE ST_Intersects(c.wkb_geometry, a.wkb_geometry)\n",
        "    GROUP BY c.categoria\n",
        "    ORDER BY COUNT(*) DESC;\n",
        "\"\"\")\n",
        "\n",
        "dados_categorias = cur.fetchall()\n",
        "\n",
        "cur.close()\n",
        "conn.close()\n",
        "\n",
        "# Criar DataFrame para melhor visualização\n",
        "df_categorias = pd.DataFrame(dados_categorias, columns=[\"Categoria\", \"Número de Polígonos\"])\n",
        "import ace_tools as tools\n",
        "tools.display_dataframe_to_user(name=\"Estatísticas por Categoria\", dataframe=df_categorias)\n"
      ],
      "metadata": {
        "id": "oCMPt7BCP3pc",
        "outputId": "0540a612-b660-45fc-93e5-f1edc2bcdb63",
        "colab": {
          "base_uri": "https://localhost:8080/",
          "height": 366
        }
      },
      "execution_count": null,
      "outputs": [
        {
          "output_type": "error",
          "ename": "ModuleNotFoundError",
          "evalue": "No module named 'ace_tools'",
          "traceback": [
            "\u001b[0;31m---------------------------------------------------------------------------\u001b[0m",
            "\u001b[0;31mModuleNotFoundError\u001b[0m                       Traceback (most recent call last)",
            "\u001b[0;32m<ipython-input-63-9f14ace2f05b>\u001b[0m in \u001b[0;36m<cell line: 0>\u001b[0;34m()\u001b[0m\n\u001b[1;32m     20\u001b[0m \u001b[0;31m# Criar DataFrame para melhor visualização\u001b[0m\u001b[0;34m\u001b[0m\u001b[0;34m\u001b[0m\u001b[0m\n\u001b[1;32m     21\u001b[0m \u001b[0mdf_categorias\u001b[0m \u001b[0;34m=\u001b[0m \u001b[0mpd\u001b[0m\u001b[0;34m.\u001b[0m\u001b[0mDataFrame\u001b[0m\u001b[0;34m(\u001b[0m\u001b[0mdados_categorias\u001b[0m\u001b[0;34m,\u001b[0m \u001b[0mcolumns\u001b[0m\u001b[0;34m=\u001b[0m\u001b[0;34m[\u001b[0m\u001b[0;34m\"Categoria\"\u001b[0m\u001b[0;34m,\u001b[0m \u001b[0;34m\"Número de Polígonos\"\u001b[0m\u001b[0;34m]\u001b[0m\u001b[0;34m)\u001b[0m\u001b[0;34m\u001b[0m\u001b[0;34m\u001b[0m\u001b[0m\n\u001b[0;32m---> 22\u001b[0;31m \u001b[0;32mimport\u001b[0m \u001b[0mace_tools\u001b[0m \u001b[0;32mas\u001b[0m \u001b[0mtools\u001b[0m\u001b[0;34m\u001b[0m\u001b[0;34m\u001b[0m\u001b[0m\n\u001b[0m\u001b[1;32m     23\u001b[0m \u001b[0mtools\u001b[0m\u001b[0;34m.\u001b[0m\u001b[0mdisplay_dataframe_to_user\u001b[0m\u001b[0;34m(\u001b[0m\u001b[0mname\u001b[0m\u001b[0;34m=\u001b[0m\u001b[0;34m\"Estatísticas por Categoria\"\u001b[0m\u001b[0;34m,\u001b[0m \u001b[0mdataframe\u001b[0m\u001b[0;34m=\u001b[0m\u001b[0mdf_categorias\u001b[0m\u001b[0;34m)\u001b[0m\u001b[0;34m\u001b[0m\u001b[0;34m\u001b[0m\u001b[0m\n",
            "\u001b[0;31mModuleNotFoundError\u001b[0m: No module named 'ace_tools'",
            "",
            "\u001b[0;31m---------------------------------------------------------------------------\u001b[0;32m\nNOTE: If your import is failing due to a missing package, you can\nmanually install dependencies using either !pip or !apt.\n\nTo view examples of installing some common dependencies, click the\n\"Open Examples\" button below.\n\u001b[0;31m---------------------------------------------------------------------------\u001b[0m\n"
          ],
          "errorDetails": {
            "actions": [
              {
                "action": "open_url",
                "actionText": "Open Examples",
                "url": "/notebooks/snippets/importing_libraries.ipynb"
              }
            ]
          }
        }
      ]
    },
    {
      "cell_type": "code",
      "source": [
        "import psycopg2\n",
        "\n",
        "# Testar conexão\n",
        "try:\n",
        "    conn = psycopg2.connect(\"dbname=deltadb user=postgres password=postgres host=localhost\")\n",
        "    cur = conn.cursor()\n",
        "    cur.execute(\"SELECT version();\")\n",
        "    db_version = cur.fetchone()\n",
        "\n",
        "    print(\"Conexão bem-sucedida! Versão do PostgreSQL:\", db_version[0])\n",
        "\n",
        "    cur.close()\n",
        "    conn.close()\n",
        "except Exception as e:\n",
        "    print(\"Erro ao conectar ao banco de dados:\", e)\n"
      ],
      "metadata": {
        "id": "3c8tgKUHQdXI",
        "outputId": "f8090c8c-5635-4c01-d30e-5e0878f006a0",
        "colab": {
          "base_uri": "https://localhost:8080/"
        }
      },
      "execution_count": null,
      "outputs": [
        {
          "output_type": "stream",
          "name": "stdout",
          "text": [
            "Conexão bem-sucedida! Versão do PostgreSQL: PostgreSQL 14.15 (Ubuntu 14.15-0ubuntu0.22.04.1) on x86_64-pc-linux-gnu, compiled by gcc (Ubuntu 11.4.0-1ubuntu1~22.04) 11.4.0, 64-bit\n"
          ]
        }
      ]
    },
    {
      "cell_type": "code",
      "source": [
        "!pip list | grep psycopg2\n"
      ],
      "metadata": {
        "id": "piAVBlk5R2sF",
        "outputId": "17881287-8267-4f7d-9769-4886408e6e02",
        "colab": {
          "base_uri": "https://localhost:8080/"
        }
      },
      "execution_count": null,
      "outputs": [
        {
          "output_type": "stream",
          "name": "stdout",
          "text": [
            "psycopg2                           2.9.10\n",
            "psycopg2-binary                    2.9.10\n"
          ]
        }
      ]
    },
    {
      "cell_type": "code",
      "source": [
        "import psycopg2\n",
        "print(\"psycopg2 está instalado e funcionando!\")\n"
      ],
      "metadata": {
        "id": "FCQn8hIFR-GA",
        "outputId": "75100e99-2587-47b4-a081-c7676367c705",
        "colab": {
          "base_uri": "https://localhost:8080/"
        }
      },
      "execution_count": null,
      "outputs": [
        {
          "output_type": "stream",
          "name": "stdout",
          "text": [
            "psycopg2 está instalado e funcionando!\n"
          ]
        }
      ]
    },
    {
      "cell_type": "code",
      "source": [
        "import psycopg2\n",
        "import pandas as pd\n",
        "import matplotlib.pyplot as plt\n",
        "\n",
        "# Conectar ao banco de dados\n",
        "conn = psycopg2.connect(\"dbname=deltadb user=postgres password=postgres host=localhost\")\n",
        "cur = conn.cursor()\n",
        "\n",
        "# Consultar o número de polígonos por categoria\n",
        "cur.execute(\"\"\"\n",
        "    SELECT c.categoria, COUNT(*)\n",
        "    FROM conservation_units c, area_estudo a\n",
        "    WHERE ST_Intersects(c.wkb_geometry, a.wkb_geometry)\n",
        "    GROUP BY c.categoria\n",
        "    ORDER BY COUNT(*) DESC;\n",
        "\"\"\")\n",
        "\n",
        "dados_categorias = cur.fetchall()\n",
        "\n",
        "cur.close()\n",
        "conn.close()\n",
        "\n",
        "# Criar DataFrame para melhor visualização\n",
        "df_categorias = pd.DataFrame(dados_categorias, columns=[\"Categoria\", \"Número de Polígonos\"])\n",
        "\n",
        "# Criar um gráfico de barras\n",
        "plt.figure(figsize=(12, 6))\n",
        "plt.barh(df_categorias[\"Categoria\"], df_categorias[\"Número de Polígonos\"], color='skyblue')\n",
        "plt.xlabel(\"Número de Polígonos\")\n",
        "plt.ylabel(\"Categoria da Unidade de Conservação\")\n",
        "plt.title(\"Distribuição das Unidades de Conservação Dentro da Área de Estudo\")\n",
        "plt.gca().invert_yaxis()  # Inverter eixo para melhor visualização\n",
        "plt.grid(axis='x', linestyle='--', alpha=0.7)\n",
        "plt.show()\n"
      ],
      "metadata": {
        "id": "8zKBXoz9T57U",
        "outputId": "4fef9fb5-2d54-42a5-f4ce-96c7edbf73c5",
        "colab": {
          "base_uri": "https://localhost:8080/",
          "height": 567
        }
      },
      "execution_count": null,
      "outputs": [
        {
          "output_type": "display_data",
          "data": {
            "text/plain": [
              "<Figure size 1200x600 with 1 Axes>"
            ],
            "image/png": "[encoded data removed]"
          },
          "metadata": {}
        }
      ]
    },
    {
      "cell_type": "code",
      "source": [
        "# Criar um gráfico de pizza\n",
        "plt.figure(figsize=(10, 7))\n",
        "plt.pie(df_categorias[\"Número de Polígonos\"], labels=df_categorias[\"Categoria\"], autopct='%1.1f%%', colors=plt.cm.Paired.colors)\n",
        "plt.title(\"Proporção das Categorias de Unidades de Conservação\")\n",
        "plt.show()\n"
      ],
      "metadata": {
        "id": "1L6EwQrCUDYg",
        "outputId": "f3f20e90-3f59-41a9-d27d-272da563b853",
        "colab": {
          "base_uri": "https://localhost:8080/",
          "height": 598
        }
      },
      "execution_count": null,
      "outputs": [
        {
          "output_type": "display_data",
          "data": {
            "text/plain": [
              "<Figure size 1000x700 with 1 Axes>"
            ],
            "image/png": "[encoded data removed]"
          },
          "metadata": {}
        }
      ]
    },
    {
      "cell_type": "code",
      "source": [
        "# Conectar ao banco de dados\n",
        "conn = psycopg2.connect(\"dbname=deltadb user=postgres password=postgres host=localhost\")\n",
        "cur = conn.cursor()\n",
        "\n",
        "# Consultar as áreas individuais das unidades de conservação dentro da área de estudo\n",
        "cur.execute(\"\"\"\n",
        "    SELECT ST_Area(ST_Transform(d.geom, 3857)) / 1000000 AS area_km2\n",
        "    FROM conservation_units c, area_estudo a,\n",
        "    LATERAL ST_Dump(ST_Intersection(c.wkb_geometry, a.wkb_geometry)) AS d\n",
        "    WHERE ST_Intersects(c.wkb_geometry, a.wkb_geometry);\n",
        "\"\"\")\n",
        "\n",
        "areas = [row[0] for row in cur.fetchall()]\n",
        "\n",
        "cur.close()\n",
        "conn.close()\n",
        "\n",
        "# Criar um histograma da distribuição das áreas\n",
        "plt.figure(figsize=(10, 6))\n",
        "plt.hist(areas, bins=20, color=\"lightcoral\", edgecolor=\"black\", alpha=0.7)\n",
        "plt.xlabel(\"Área (km²)\")\n",
        "plt.ylabel(\"Frequência\")\n",
        "plt.title(\"Distribuição das Áreas das Unidades de Conservação\")\n",
        "plt.grid(axis=\"y\", linestyle=\"--\", alpha=0.7)\n",
        "plt.show()\n"
      ],
      "metadata": {
        "id": "mTwLgcDJUI7D",
        "outputId": "dc86bdbf-8c70-4c95-fa6f-bf39ce6a0b66",
        "colab": {
          "base_uri": "https://localhost:8080/",
          "height": 567
        }
      },
      "execution_count": null,
      "outputs": [
        {
          "output_type": "display_data",
          "data": {
            "text/plain": [
              "<Figure size 1000x600 with 1 Axes>"
            ],
            "image/png": "[encoded data removed]"
          },
          "metadata": {}
        }
      ]
    },
    {
      "cell_type": "code",
      "source": [
        "import psycopg2\n",
        "import pandas as pd\n",
        "\n",
        "# Conectar ao banco de dados\n",
        "conn = psycopg2.connect(\"dbname=deltadb user=postgres password=postgres host=localhost\")\n",
        "cur = conn.cursor()\n",
        "\n",
        "# Calcular a área total da área de estudo\n",
        "cur.execute(\"\"\"\n",
        "    SELECT ST_Area(ST_Transform(wkb_geometry, 3857)) / 1000000\n",
        "    FROM area_estudo;\n",
        "\"\"\")\n",
        "area_total_estudo = cur.fetchone()[0]\n",
        "\n",
        "# Calcular a área total das unidades de conservação dentro da área de estudo\n",
        "cur.execute(\"\"\"\n",
        "    SELECT SUM(ST_Area(ST_Transform(d.geom, 3857))) / 1000000\n",
        "    FROM conservation_units c, area_estudo a,\n",
        "    LATERAL ST_Dump(ST_Intersection(c.wkb_geometry, a.wkb_geometry)) AS d\n",
        "    WHERE ST_Intersects(c.wkb_geometry, a.wkb_geometry);\n",
        "\"\"\")\n",
        "area_total_uc = cur.fetchone()[0]\n",
        "\n",
        "cur.close()\n",
        "conn.close()\n",
        "\n",
        "# Calcular a porcentagem da área das unidades de conservação dentro da área de estudo\n",
        "percentual_uc = (area_total_uc / area_total_estudo) * 100\n",
        "\n",
        "# Criar um DataFrame para exibir os valores\n",
        "df_percentual = pd.DataFrame([\n",
        "    [\"Área Total da Área de Estudo (km²)\", area_total_estudo],\n",
        "    [\"Área Total das Unidades de Conservação (km²)\", area_total_uc],\n",
        "    [\"Percentual de Unidades de Conservação na Área de Estudo (%)\", percentual_uc]\n",
        "], columns=[\"Métrica\", \"Valor\"])\n",
        "\n",
        "# Exibir a tabela no Pandas\n",
        "df_percentual\n"
      ],
      "metadata": {
        "id": "Nn4isazEVjjN",
        "outputId": "6c569747-a099-46c9-9d83-6925d284905d",
        "colab": {
          "base_uri": "https://localhost:8080/",
          "height": 143
        }
      },
      "execution_count": null,
      "outputs": [
        {
          "output_type": "execute_result",
          "data": {
            "text/plain": [
              "                                             Métrica         Valor\n",
              "0                 Área Total da Área de Estudo (km²)  60986.261394\n",
              "1       Área Total das Unidades de Conservação (km²)  19199.649413\n",
              "2  Percentual de Unidades de Conservação na Área ...     31.481926"
            ],
            "text/html": [
              "\n",
              "  <div id=\"df-b07110c1-406d-45a5-9e60-9781bf767397\" class=\"colab-df-container\">\n",
              "    <div>\n",
              "<style scoped>\n",
              "    .dataframe tbody tr th:only-of-type {\n",
              "        vertical-align: middle;\n",
              "    }\n",
              "\n",
              "    .dataframe tbody tr th {\n",
              "        vertical-align: top;\n",
              "    }\n",
              "\n",
              "    .dataframe thead th {\n",
              "        text-align: right;\n",
              "    }\n",
              "</style>\n",
              "<table border=\"1\" class=\"dataframe\">\n",
              "  <thead>\n",
              "    <tr style=\"text-align: right;\">\n",
              "      <th></th>\n",
              "      <th>Métrica</th>\n",
              "      <th>Valor</th>\n",
              "    </tr>\n",
              "  </thead>\n",
              "  <tbody>\n",
              "    <tr>\n",
              "      <th>0</th>\n",
              "      <td>Área Total da Área de Estudo (km²)</td>\n",
              "      <td>60986.261394</td>\n",
              "    </tr>\n",
              "    <tr>\n",
              "      <th>1</th>\n",
              "      <td>Área Total das Unidades de Conservação (km²)</td>\n",
              "      <td>19199.649413</td>\n",
              "    </tr>\n",
              "    <tr>\n",
              "      <th>2</th>\n",
              "      <td>Percentual de Unidades de Conservação na Área ...</td>\n",
              "      <td>31.481926</td>\n",
              "    </tr>\n",
              "  </tbody>\n",
              "</table>\n",
              "</div>\n",
              "    <div class=\"colab-df-buttons\">\n",
              "\n",
              "  <div class=\"colab-df-container\">\n",
              "    <button class=\"colab-df-convert\" onclick=\"convertToInteractive('df-b07110c1-406d-45a5-9e60-9781bf767397')\"\n",
              "            title=\"Convert this dataframe to an interactive table.\"\n",
              "            style=\"display:none;\">\n",
              "\n",
              "  <svg xmlns=\"http://www.w3.org/2000/svg\" height=\"24px\" viewBox=\"0 -960 960 960\">\n",
              "    <path d=\"M120-120v-720h720v720H120Zm60-500h600v-160H180v160Zm220 220h160v-160H400v160Zm0 220h160v-160H400v160ZM180-400h160v-160H180v160Zm440 0h160v-160H620v160ZM180-180h160v-160H180v160Zm440 0h160v-160H620v160Z\"/>\n",
              "  </svg>\n",
              "    </button>\n",
              "\n",
              "  <style>\n",
              "    .colab-df-container {\n",
              "      display:flex;\n",
              "      gap: 12px;\n",
              "    }\n",
              "\n",
              "    .colab-df-convert {\n",
              "      background-color: #E8F0FE;\n",
              "      border: none;\n",
              "      border-radius: 50%;\n",
              "      cursor: pointer;\n",
              "      display: none;\n",
              "      fill: #1967D2;\n",
              "      height: 32px;\n",
              "      padding: 0 0 0 0;\n",
              "      width: 32px;\n",
              "    }\n",
              "\n",
              "    .colab-df-convert:hover {\n",
              "      background-color: #E2EBFA;\n",
              "      box-shadow: 0px 1px 2px rgba(60, 64, 67, 0.3), 0px 1px 3px 1px rgba(60, 64, 67, 0.15);\n",
              "      fill: #174EA6;\n",
              "    }\n",
              "\n",
              "    .colab-df-buttons div {\n",
              "      margin-bottom: 4px;\n",
              "    }\n",
              "\n",
              "    [theme=dark] .colab-df-convert {\n",
              "      background-color: #3B4455;\n",
              "      fill: #D2E3FC;\n",
              "    }\n",
              "\n",
              "    [theme=dark] .colab-df-convert:hover {\n",
              "      background-color: #434B5C;\n",
              "      box-shadow: 0px 1px 3px 1px rgba(0, 0, 0, 0.15);\n",
              "      filter: drop-shadow(0px 1px 2px rgba(0, 0, 0, 0.3));\n",
              "      fill: #FFFFFF;\n",
              "    }\n",
              "  </style>\n",
              "\n",
              "    <script>\n",
              "      const buttonEl =\n",
              "        document.querySelector('#df-b07110c1-406d-45a5-9e60-9781bf767397 button.colab-df-convert');\n",
              "      buttonEl.style.display =\n",
              "        google.colab.kernel.accessAllowed ? 'block' : 'none';\n",
              "\n",
              "      async function convertToInteractive(key) {\n",
              "        const element = document.querySelector('#df-b07110c1-406d-45a5-9e60-9781bf767397');\n",
              "        const dataTable =\n",
              "          await google.colab.kernel.invokeFunction('convertToInteractive',\n",
              "                                                    [key], {});\n",
              "        if (!dataTable) return;\n",
              "\n",
              "        const docLinkHtml = 'Like what you see? Visit the ' +\n",
              "          '<a target=\"_blank\" href=https://colab.research.google.com/notebooks/data_table.ipynb>data table notebook</a>'\n",
              "          + ' to learn more about interactive tables.';\n",
              "        element.innerHTML = '';\n",
              "        dataTable['output_type'] = 'display_data';\n",
              "        await google.colab.output.renderOutput(dataTable, element);\n",
              "        const docLink = document.createElement('div');\n",
              "        docLink.innerHTML = docLinkHtml;\n",
              "        element.appendChild(docLink);\n",
              "      }\n",
              "    </script>\n",
              "  </div>\n",
              "\n",
              "\n",
              "<div id=\"df-111f26bd-bc21-47bf-8422-d4170495e267\">\n",
              "  <button class=\"colab-df-quickchart\" onclick=\"quickchart('df-111f26bd-bc21-47bf-8422-d4170495e267')\"\n",
              "            title=\"Suggest charts\"\n",
              "            style=\"display:none;\">\n",
              "\n",
              "<svg xmlns=\"http://www.w3.org/2000/svg\" height=\"24px\"viewBox=\"0 0 24 24\"\n",
              "     width=\"24px\">\n",
              "    <g>\n",
              "        <path d=\"M19 3H5c-1.1 0-2 .9-2 2v14c0 1.1.9 2 2 2h14c1.1 0 2-.9 2-2V5c0-1.1-.9-2-2-2zM9 17H7v-7h2v7zm4 0h-2V7h2v10zm4 0h-2v-4h2v4z\"/>\n",
              "    </g>\n",
              "</svg>\n",
              "  </button>\n",
              "\n",
              "<style>\n",
              "  .colab-df-quickchart {\n",
              "      --bg-color: #E8F0FE;\n",
              "      --fill-color: #1967D2;\n",
              "      --hover-bg-color: #E2EBFA;\n",
              "      --hover-fill-color: #174EA6;\n",
              "      --disabled-fill-color: #AAA;\n",
              "      --disabled-bg-color: #DDD;\n",
              "  }\n",
              "\n",
              "  [theme=dark] .colab-df-quickchart {\n",
              "      --bg-color: #3B4455;\n",
              "      --fill-color: #D2E3FC;\n",
              "      --hover-bg-color: #434B5C;\n",
              "      --hover-fill-color: #FFFFFF;\n",
              "      --disabled-bg-color: #3B4455;\n",
              "      --disabled-fill-color: #666;\n",
              "  }\n",
              "\n",
              "  .colab-df-quickchart {\n",
              "    background-color: var(--bg-color);\n",
              "    border: none;\n",
              "    border-radius: 50%;\n",
              "    cursor: pointer;\n",
              "    display: none;\n",
              "    fill: var(--fill-color);\n",
              "    height: 32px;\n",
              "    padding: 0;\n",
              "    width: 32px;\n",
              "  }\n",
              "\n",
              "  .colab-df-quickchart:hover {\n",
              "    background-color: var(--hover-bg-color);\n",
              "    box-shadow: 0 1px 2px rgba(60, 64, 67, 0.3), 0 1px 3px 1px rgba(60, 64, 67, 0.15);\n",
              "    fill: var(--button-hover-fill-color);\n",
              "  }\n",
              "\n",
              "  .colab-df-quickchart-complete:disabled,\n",
              "  .colab-df-quickchart-complete:disabled:hover {\n",
              "    background-color: var(--disabled-bg-color);\n",
              "    fill: var(--disabled-fill-color);\n",
              "    box-shadow: none;\n",
              "  }\n",
              "\n",
              "  .colab-df-spinner {\n",
              "    border: 2px solid var(--fill-color);\n",
              "    border-color: transparent;\n",
              "    border-bottom-color: var(--fill-color);\n",
              "    animation:\n",
              "      spin 1s steps(1) infinite;\n",
              "  }\n",
              "\n",
              "  @keyframes spin {\n",
              "    0% {\n",
              "      border-color: transparent;\n",
              "      border-bottom-color: var(--fill-color);\n",
              "      border-left-color: var(--fill-color);\n",
              "    }\n",
              "    20% {\n",
              "      border-color: transparent;\n",
              "      border-left-color: var(--fill-color);\n",
              "      border-top-color: var(--fill-color);\n",
              "    }\n",
              "    30% {\n",
              "      border-color: transparent;\n",
              "      border-left-color: var(--fill-color);\n",
              "      border-top-color: var(--fill-color);\n",
              "      border-right-color: var(--fill-color);\n",
              "    }\n",
              "    40% {\n",
              "      border-color: transparent;\n",
              "      border-right-color: var(--fill-color);\n",
              "      border-top-color: var(--fill-color);\n",
              "    }\n",
              "    60% {\n",
              "      border-color: transparent;\n",
              "      border-right-color: var(--fill-color);\n",
              "    }\n",
              "    80% {\n",
              "      border-color: transparent;\n",
              "      border-right-color: var(--fill-color);\n",
              "      border-bottom-color: var(--fill-color);\n",
              "    }\n",
              "    90% {\n",
              "      border-color: transparent;\n",
              "      border-bottom-color: var(--fill-color);\n",
              "    }\n",
              "  }\n",
              "</style>\n",
              "\n",
              "  <script>\n",
              "    async function quickchart(key) {\n",
              "      const quickchartButtonEl =\n",
              "        document.querySelector('#' + key + ' button');\n",
              "      quickchartButtonEl.disabled = true;  // To prevent multiple clicks.\n",
              "      quickchartButtonEl.classList.add('colab-df-spinner');\n",
              "      try {\n",
              "        const charts = await google.colab.kernel.invokeFunction(\n",
              "            'suggestCharts', [key], {});\n",
              "      } catch (error) {\n",
              "        console.error('Error during call to suggestCharts:', error);\n",
              "      }\n",
              "      quickchartButtonEl.classList.remove('colab-df-spinner');\n",
              "      quickchartButtonEl.classList.add('colab-df-quickchart-complete');\n",
              "    }\n",
              "    (() => {\n",
              "      let quickchartButtonEl =\n",
              "        document.querySelector('#df-111f26bd-bc21-47bf-8422-d4170495e267 button');\n",
              "      quickchartButtonEl.style.display =\n",
              "        google.colab.kernel.accessAllowed ? 'block' : 'none';\n",
              "    })();\n",
              "  </script>\n",
              "</div>\n",
              "\n",
              "  <div id=\"id_a55ed863-8570-44d3-b5d5-6237e171a58c\">\n",
              "    <style>\n",
              "      .colab-df-generate {\n",
              "        background-color: #E8F0FE;\n",
              "        border: none;\n",
              "        border-radius: 50%;\n",
              "        cursor: pointer;\n",
              "        display: none;\n",
              "        fill: #1967D2;\n",
              "        height: 32px;\n",
              "        padding: 0 0 0 0;\n",
              "        width: 32px;\n",
              "      }\n",
              "\n",
              "      .colab-df-generate:hover {\n",
              "        background-color: #E2EBFA;\n",
              "        box-shadow: 0px 1px 2px rgba(60, 64, 67, 0.3), 0px 1px 3px 1px rgba(60, 64, 67, 0.15);\n",
              "        fill: #174EA6;\n",
              "      }\n",
              "\n",
              "      [theme=dark] .colab-df-generate {\n",
              "        background-color: #3B4455;\n",
              "        fill: #D2E3FC;\n",
              "      }\n",
              "\n",
              "      [theme=dark] .colab-df-generate:hover {\n",
              "        background-color: #434B5C;\n",
              "        box-shadow: 0px 1px 3px 1px rgba(0, 0, 0, 0.15);\n",
              "        filter: drop-shadow(0px 1px 2px rgba(0, 0, 0, 0.3));\n",
              "        fill: #FFFFFF;\n",
              "      }\n",
              "    </style>\n",
              "    <button class=\"colab-df-generate\" onclick=\"generateWithVariable('df_percentual')\"\n",
              "            title=\"Generate code using this dataframe.\"\n",
              "            style=\"display:none;\">\n",
              "\n",
              "  <svg xmlns=\"http://www.w3.org/2000/svg\" height=\"24px\"viewBox=\"0 0 24 24\"\n",
              "       width=\"24px\">\n",
              "    <path d=\"M7,19H8.4L18.45,9,17,7.55,7,17.6ZM5,21V16.75L18.45,3.32a2,2,0,0,1,2.83,0l1.4,1.43a1.91,1.91,0,0,1,.58,1.4,1.91,1.91,0,0,1-.58,1.4L9.25,21ZM18.45,9,17,7.55Zm-12,3A5.31,5.31,0,0,0,4.9,8.1,5.31,5.31,0,0,0,1,6.5,5.31,5.31,0,0,0,4.9,4.9,5.31,5.31,0,0,0,6.5,1,5.31,5.31,0,0,0,8.1,4.9,5.31,5.31,0,0,0,12,6.5,5.46,5.46,0,0,0,6.5,12Z\"/>\n",
              "  </svg>\n",
              "    </button>\n",
              "    <script>\n",
              "      (() => {\n",
              "      const buttonEl =\n",
              "        document.querySelector('#id_a55ed863-8570-44d3-b5d5-6237e171a58c button.colab-df-generate');\n",
              "      buttonEl.style.display =\n",
              "        google.colab.kernel.accessAllowed ? 'block' : 'none';\n",
              "\n",
              "      buttonEl.onclick = () => {\n",
              "        google.colab.notebook.generateWithVariable('df_percentual');\n",
              "      }\n",
              "      })();\n",
              "    </script>\n",
              "  </div>\n",
              "\n",
              "    </div>\n",
              "  </div>\n"
            ],
            "application/vnd.google.colaboratory.intrinsic+json": {
              "type": "dataframe",
              "variable_name": "df_percentual",
              "summary": "{\n  \"name\": \"df_percentual\",\n  \"rows\": 3,\n  \"fields\": [\n    {\n      \"column\": \"M\\u00e9trica\",\n      \"properties\": {\n        \"dtype\": \"string\",\n        \"num_unique_values\": 3,\n        \"samples\": [\n          \"\\u00c1rea Total da \\u00c1rea de Estudo (km\\u00b2)\",\n          \"\\u00c1rea Total das Unidades de Conserva\\u00e7\\u00e3o (km\\u00b2)\",\n          \"Percentual de Unidades de Conserva\\u00e7\\u00e3o na \\u00c1rea de Estudo (%)\"\n        ],\n        \"semantic_type\": \"\",\n        \"description\": \"\"\n      }\n    },\n    {\n      \"column\": \"Valor\",\n      \"properties\": {\n        \"dtype\": \"number\",\n        \"std\": 31168.960857995862,\n        \"min\": 31.481925557840125,\n        \"max\": 60986.26139431615,\n        \"num_unique_values\": 3,\n        \"samples\": [\n          60986.26139431615,\n          19199.6494126684,\n          31.481925557840125\n        ],\n        \"semantic_type\": \"\",\n        \"description\": \"\"\n      }\n    }\n  ]\n}"
            }
          },
          "metadata": {},
          "execution_count": 74
        }
      ]
    },
    {
      "cell_type": "code",
      "source": [
        "conn = psycopg2.connect(\"dbname=deltadb user=postgres password=postgres host=localhost\")\n",
        "cur = conn.cursor()\n",
        "\n",
        "# Listar todas as tabelas do banco de dados\n",
        "cur.execute(\"\"\"\n",
        "    SELECT table_name\n",
        "    FROM information_schema.tables\n",
        "    WHERE table_schema = 'public';\n",
        "\"\"\")\n",
        "tabelas = cur.fetchall()\n",
        "\n",
        "# Listar os campos de cada tabela\n",
        "estrutura_banco = {}\n",
        "for tabela in tabelas:\n",
        "    tabela_nome = tabela[0]\n",
        "    cur.execute(f\"\"\"\n",
        "        SELECT column_name, data_type\n",
        "        FROM information_schema.columns\n",
        "        WHERE table_name = '{tabela_nome}';\n",
        "    \"\"\")\n",
        "    estrutura_banco[tabela_nome] = cur.fetchall()\n",
        "\n",
        "cur.close()\n",
        "conn.close()\n",
        "\n",
        "# Exibir a estrutura do banco de dados\n",
        "estrutura_banco\n"
      ],
      "metadata": {
        "id": "3SKHr_BWWYmG",
        "outputId": "d5842645-f967-435a-f419-7d54554b97c2",
        "colab": {
          "base_uri": "https://localhost:8080/"
        }
      },
      "execution_count": null,
      "outputs": [
        {
          "output_type": "execute_result",
          "data": {
            "text/plain": [
              "{'geography_columns': [('coord_dimension', 'integer'),\n",
              "  ('srid', 'integer'),\n",
              "  ('type', 'text'),\n",
              "  ('f_table_catalog', 'name'),\n",
              "  ('f_geography_column', 'name'),\n",
              "  ('f_table_schema', 'name'),\n",
              "  ('f_table_name', 'name')],\n",
              " 'geometry_columns': [('coord_dimension', 'integer'),\n",
              "  ('srid', 'integer'),\n",
              "  ('type', 'character varying'),\n",
              "  ('f_table_catalog', 'character varying'),\n",
              "  ('f_geometry_column', 'name'),\n",
              "  ('f_table_schema', 'name'),\n",
              "  ('f_table_name', 'name')],\n",
              " 'spatial_ref_sys': [('srid', 'integer'),\n",
              "  ('auth_srid', 'integer'),\n",
              "  ('auth_name', 'character varying'),\n",
              "  ('srtext', 'character varying'),\n",
              "  ('proj4text', 'character varying')],\n",
              " 'area_estudo': [('ogc_fid', 'integer'),\n",
              "  ('id', 'numeric'),\n",
              "  ('wkb_geometry', 'USER-DEFINED'),\n",
              "  ('nome', 'character varying')],\n",
              " 'conservation_units': [('ogc_fid', 'integer'),\n",
              "  ('id', 'numeric'),\n",
              "  ('wkb_geometry', 'USER-DEFINED'),\n",
              "  ('categoria', 'character varying'),\n",
              "  ('grupo', 'character varying'),\n",
              "  ('esfera', 'character varying'),\n",
              "  ('ano_cria', 'character varying'),\n",
              "  ('nome', 'character varying')]}"
            ]
          },
          "metadata": {},
          "execution_count": 75
        }
      ]
    },
    {
      "cell_type": "code",
      "source": [
        "import psycopg2\n",
        "import pandas as pd\n",
        "\n",
        "# Conectar ao banco de dados e obter a estrutura das tabelas\n",
        "conn = psycopg2.connect(\"dbname=deltadb user=postgres password=postgres host=localhost\")\n",
        "cur = conn.cursor()\n",
        "\n",
        "# Listar todas as tabelas do banco de dados\n",
        "cur.execute(\"\"\"\n",
        "    SELECT table_name\n",
        "    FROM information_schema.tables\n",
        "    WHERE table_schema = 'public';\n",
        "\"\"\")\n",
        "tabelas = cur.fetchall()\n",
        "\n",
        "# Criar um dicionário para armazenar a estrutura do banco de dados\n",
        "estrutura_banco = {}\n",
        "\n",
        "# Listar os campos de cada tabela\n",
        "for tabela in tabelas:\n",
        "    tabela_nome = tabela[0]\n",
        "    cur.execute(f\"\"\"\n",
        "        SELECT column_name, data_type\n",
        "        FROM information_schema.columns\n",
        "        WHERE table_name = '{tabela_nome}';\n",
        "    \"\"\")\n",
        "    estrutura_banco[tabela_nome] = cur.fetchall()\n",
        "\n",
        "cur.close()\n",
        "conn.close()\n",
        "\n",
        "# Criar um DataFrame para exibir a estrutura das tabelas\n",
        "df_estrutura = []\n",
        "for tabela, colunas in estrutura_banco.items():\n",
        "    for coluna in colunas:\n",
        "        df_estrutura.append([tabela, coluna[0], coluna[1]])\n",
        "\n",
        "df_estrutura = pd.DataFrame(df_estrutura, columns=[\"Tabela\", \"Coluna\", \"Tipo de Dado\"])\n",
        "\n",
        "# Exibir a estrutura do banco de dados\n",
        "df_estrutura\n"
      ],
      "metadata": {
        "id": "v5xsakySXHmU",
        "outputId": "6e633633-8e5a-44fa-e213-2067a33aa563",
        "colab": {
          "base_uri": "https://localhost:8080/",
          "height": 1000
        }
      },
      "execution_count": null,
      "outputs": [
        {
          "output_type": "execute_result",
          "data": {
            "text/plain": [
              "                Tabela              Coluna       Tipo de Dado\n",
              "0    geography_columns     coord_dimension            integer\n",
              "1    geography_columns                srid            integer\n",
              "2    geography_columns                type               text\n",
              "3    geography_columns     f_table_catalog               name\n",
              "4    geography_columns  f_geography_column               name\n",
              "5    geography_columns      f_table_schema               name\n",
              "6    geography_columns        f_table_name               name\n",
              "7     geometry_columns     coord_dimension            integer\n",
              "8     geometry_columns                srid            integer\n",
              "9     geometry_columns                type  character varying\n",
              "10    geometry_columns     f_table_catalog  character varying\n",
              "11    geometry_columns   f_geometry_column               name\n",
              "12    geometry_columns      f_table_schema               name\n",
              "13    geometry_columns        f_table_name               name\n",
              "14     spatial_ref_sys                srid            integer\n",
              "15     spatial_ref_sys           auth_srid            integer\n",
              "16     spatial_ref_sys           auth_name  character varying\n",
              "17     spatial_ref_sys              srtext  character varying\n",
              "18     spatial_ref_sys           proj4text  character varying\n",
              "19         area_estudo             ogc_fid            integer\n",
              "20         area_estudo                  id            numeric\n",
              "21         area_estudo        wkb_geometry       USER-DEFINED\n",
              "22         area_estudo                nome  character varying\n",
              "23  conservation_units             ogc_fid            integer\n",
              "24  conservation_units                  id            numeric\n",
              "25  conservation_units        wkb_geometry       USER-DEFINED\n",
              "26  conservation_units           categoria  character varying\n",
              "27  conservation_units               grupo  character varying\n",
              "28  conservation_units              esfera  character varying\n",
              "29  conservation_units            ano_cria  character varying\n",
              "30  conservation_units                nome  character varying"
            ],
            "text/html": [
              "\n",
              "  <div id=\"df-41098b45-91da-4bd3-b3c1-1f235f0803b4\" class=\"colab-df-container\">\n",
              "    <div>\n",
              "<style scoped>\n",
              "    .dataframe tbody tr th:only-of-type {\n",
              "        vertical-align: middle;\n",
              "    }\n",
              "\n",
              "    .dataframe tbody tr th {\n",
              "        vertical-align: top;\n",
              "    }\n",
              "\n",
              "    .dataframe thead th {\n",
              "        text-align: right;\n",
              "    }\n",
              "</style>\n",
              "<table border=\"1\" class=\"dataframe\">\n",
              "  <thead>\n",
              "    <tr style=\"text-align: right;\">\n",
              "      <th></th>\n",
              "      <th>Tabela</th>\n",
              "      <th>Coluna</th>\n",
              "      <th>Tipo de Dado</th>\n",
              "    </tr>\n",
              "  </thead>\n",
              "  <tbody>\n",
              "    <tr>\n",
              "      <th>0</th>\n",
              "      <td>geography_columns</td>\n",
              "      <td>coord_dimension</td>\n",
              "      <td>integer</td>\n",
              "    </tr>\n",
              "    <tr>\n",
              "      <th>1</th>\n",
              "      <td>geography_columns</td>\n",
              "      <td>srid</td>\n",
              "      <td>integer</td>\n",
              "    </tr>\n",
              "    <tr>\n",
              "      <th>2</th>\n",
              "      <td>geography_columns</td>\n",
              "      <td>type</td>\n",
              "      <td>text</td>\n",
              "    </tr>\n",
              "    <tr>\n",
              "      <th>3</th>\n",
              "      <td>geography_columns</td>\n",
              "      <td>f_table_catalog</td>\n",
              "      <td>name</td>\n",
              "    </tr>\n",
              "    <tr>\n",
              "      <th>4</th>\n",
              "      <td>geography_columns</td>\n",
              "      <td>f_geography_column</td>\n",
              "      <td>name</td>\n",
              "    </tr>\n",
              "    <tr>\n",
              "      <th>5</th>\n",
              "      <td>geography_columns</td>\n",
              "      <td>f_table_schema</td>\n",
              "      <td>name</td>\n",
              "    </tr>\n",
              "    <tr>\n",
              "      <th>6</th>\n",
              "      <td>geography_columns</td>\n",
              "      <td>f_table_name</td>\n",
              "      <td>name</td>\n",
              "    </tr>\n",
              "    <tr>\n",
              "      <th>7</th>\n",
              "      <td>geometry_columns</td>\n",
              "      <td>coord_dimension</td>\n",
              "      <td>integer</td>\n",
              "    </tr>\n",
              "    <tr>\n",
              "      <th>8</th>\n",
              "      <td>geometry_columns</td>\n",
              "      <td>srid</td>\n",
              "      <td>integer</td>\n",
              "    </tr>\n",
              "    <tr>\n",
              "      <th>9</th>\n",
              "      <td>geometry_columns</td>\n",
              "      <td>type</td>\n",
              "      <td>character varying</td>\n",
              "    </tr>\n",
              "    <tr>\n",
              "      <th>10</th>\n",
              "      <td>geometry_columns</td>\n",
              "      <td>f_table_catalog</td>\n",
              "      <td>character varying</td>\n",
              "    </tr>\n",
              "    <tr>\n",
              "      <th>11</th>\n",
              "      <td>geometry_columns</td>\n",
              "      <td>f_geometry_column</td>\n",
              "      <td>name</td>\n",
              "    </tr>\n",
              "    <tr>\n",
              "      <th>12</th>\n",
              "      <td>geometry_columns</td>\n",
              "      <td>f_table_schema</td>\n",
              "      <td>name</td>\n",
              "    </tr>\n",
              "    <tr>\n",
              "      <th>13</th>\n",
              "      <td>geometry_columns</td>\n",
              "      <td>f_table_name</td>\n",
              "      <td>name</td>\n",
              "    </tr>\n",
              "    <tr>\n",
              "      <th>14</th>\n",
              "      <td>spatial_ref_sys</td>\n",
              "      <td>srid</td>\n",
              "      <td>integer</td>\n",
              "    </tr>\n",
              "    <tr>\n",
              "      <th>15</th>\n",
              "      <td>spatial_ref_sys</td>\n",
              "      <td>auth_srid</td>\n",
              "      <td>integer</td>\n",
              "    </tr>\n",
              "    <tr>\n",
              "      <th>16</th>\n",
              "      <td>spatial_ref_sys</td>\n",
              "      <td>auth_name</td>\n",
              "      <td>character varying</td>\n",
              "    </tr>\n",
              "    <tr>\n",
              "      <th>17</th>\n",
              "      <td>spatial_ref_sys</td>\n",
              "      <td>srtext</td>\n",
              "      <td>character varying</td>\n",
              "    </tr>\n",
              "    <tr>\n",
              "      <th>18</th>\n",
              "      <td>spatial_ref_sys</td>\n",
              "      <td>proj4text</td>\n",
              "      <td>character varying</td>\n",
              "    </tr>\n",
              "    <tr>\n",
              "      <th>19</th>\n",
              "      <td>area_estudo</td>\n",
              "      <td>ogc_fid</td>\n",
              "      <td>integer</td>\n",
              "    </tr>\n",
              "    <tr>\n",
              "      <th>20</th>\n",
              "      <td>area_estudo</td>\n",
              "      <td>id</td>\n",
              "      <td>numeric</td>\n",
              "    </tr>\n",
              "    <tr>\n",
              "      <th>21</th>\n",
              "      <td>area_estudo</td>\n",
              "      <td>wkb_geometry</td>\n",
              "      <td>USER-DEFINED</td>\n",
              "    </tr>\n",
              "    <tr>\n",
              "      <th>22</th>\n",
              "      <td>area_estudo</td>\n",
              "      <td>nome</td>\n",
              "      <td>character varying</td>\n",
              "    </tr>\n",
              "    <tr>\n",
              "      <th>23</th>\n",
              "      <td>conservation_units</td>\n",
              "      <td>ogc_fid</td>\n",
              "      <td>integer</td>\n",
              "    </tr>\n",
              "    <tr>\n",
              "      <th>24</th>\n",
              "      <td>conservation_units</td>\n",
              "      <td>id</td>\n",
              "      <td>numeric</td>\n",
              "    </tr>\n",
              "    <tr>\n",
              "      <th>25</th>\n",
              "      <td>conservation_units</td>\n",
              "      <td>wkb_geometry</td>\n",
              "      <td>USER-DEFINED</td>\n",
              "    </tr>\n",
              "    <tr>\n",
              "      <th>26</th>\n",
              "      <td>conservation_units</td>\n",
              "      <td>categoria</td>\n",
              "      <td>character varying</td>\n",
              "    </tr>\n",
              "    <tr>\n",
              "      <th>27</th>\n",
              "      <td>conservation_units</td>\n",
              "      <td>grupo</td>\n",
              "      <td>character varying</td>\n",
              "    </tr>\n",
              "    <tr>\n",
              "      <th>28</th>\n",
              "      <td>conservation_units</td>\n",
              "      <td>esfera</td>\n",
              "      <td>character varying</td>\n",
              "    </tr>\n",
              "    <tr>\n",
              "      <th>29</th>\n",
              "      <td>conservation_units</td>\n",
              "      <td>ano_cria</td>\n",
              "      <td>character varying</td>\n",
              "    </tr>\n",
              "    <tr>\n",
              "      <th>30</th>\n",
              "      <td>conservation_units</td>\n",
              "      <td>nome</td>\n",
              "      <td>character varying</td>\n",
              "    </tr>\n",
              "  </tbody>\n",
              "</table>\n",
              "</div>\n",
              "    <div class=\"colab-df-buttons\">\n",
              "\n",
              "  <div class=\"colab-df-container\">\n",
              "    <button class=\"colab-df-convert\" onclick=\"convertToInteractive('df-41098b45-91da-4bd3-b3c1-1f235f0803b4')\"\n",
              "            title=\"Convert this dataframe to an interactive table.\"\n",
              "            style=\"display:none;\">\n",
              "\n",
              "  <svg xmlns=\"http://www.w3.org/2000/svg\" height=\"24px\" viewBox=\"0 -960 960 960\">\n",
              "    <path d=\"M120-120v-720h720v720H120Zm60-500h600v-160H180v160Zm220 220h160v-160H400v160Zm0 220h160v-160H400v160ZM180-400h160v-160H180v160Zm440 0h160v-160H620v160ZM180-180h160v-160H180v160Zm440 0h160v-160H620v160Z\"/>\n",
              "  </svg>\n",
              "    </button>\n",
              "\n",
              "  <style>\n",
              "    .colab-df-container {\n",
              "      display:flex;\n",
              "      gap: 12px;\n",
              "    }\n",
              "\n",
              "    .colab-df-convert {\n",
              "      background-color: #E8F0FE;\n",
              "      border: none;\n",
              "      border-radius: 50%;\n",
              "      cursor: pointer;\n",
              "      display: none;\n",
              "      fill: #1967D2;\n",
              "      height: 32px;\n",
              "      padding: 0 0 0 0;\n",
              "      width: 32px;\n",
              "    }\n",
              "\n",
              "    .colab-df-convert:hover {\n",
              "      background-color: #E2EBFA;\n",
              "      box-shadow: 0px 1px 2px rgba(60, 64, 67, 0.3), 0px 1px 3px 1px rgba(60, 64, 67, 0.15);\n",
              "      fill: #174EA6;\n",
              "    }\n",
              "\n",
              "    .colab-df-buttons div {\n",
              "      margin-bottom: 4px;\n",
              "    }\n",
              "\n",
              "    [theme=dark] .colab-df-convert {\n",
              "      background-color: #3B4455;\n",
              "      fill: #D2E3FC;\n",
              "    }\n",
              "\n",
              "    [theme=dark] .colab-df-convert:hover {\n",
              "      background-color: #434B5C;\n",
              "      box-shadow: 0px 1px 3px 1px rgba(0, 0, 0, 0.15);\n",
              "      filter: drop-shadow(0px 1px 2px rgba(0, 0, 0, 0.3));\n",
              "      fill: #FFFFFF;\n",
              "    }\n",
              "  </style>\n",
              "\n",
              "    <script>\n",
              "      const buttonEl =\n",
              "        document.querySelector('#df-41098b45-91da-4bd3-b3c1-1f235f0803b4 button.colab-df-convert');\n",
              "      buttonEl.style.display =\n",
              "        google.colab.kernel.accessAllowed ? 'block' : 'none';\n",
              "\n",
              "      async function convertToInteractive(key) {\n",
              "        const element = document.querySelector('#df-41098b45-91da-4bd3-b3c1-1f235f0803b4');\n",
              "        const dataTable =\n",
              "          await google.colab.kernel.invokeFunction('convertToInteractive',\n",
              "                                                    [key], {});\n",
              "        if (!dataTable) return;\n",
              "\n",
              "        const docLinkHtml = 'Like what you see? Visit the ' +\n",
              "          '<a target=\"_blank\" href=https://colab.research.google.com/notebooks/data_table.ipynb>data table notebook</a>'\n",
              "          + ' to learn more about interactive tables.';\n",
              "        element.innerHTML = '';\n",
              "        dataTable['output_type'] = 'display_data';\n",
              "        await google.colab.output.renderOutput(dataTable, element);\n",
              "        const docLink = document.createElement('div');\n",
              "        docLink.innerHTML = docLinkHtml;\n",
              "        element.appendChild(docLink);\n",
              "      }\n",
              "    </script>\n",
              "  </div>\n",
              "\n",
              "\n",
              "<div id=\"df-f1cf4d54-b7e5-4971-8432-5fcff5b08963\">\n",
              "  <button class=\"colab-df-quickchart\" onclick=\"quickchart('df-f1cf4d54-b7e5-4971-8432-5fcff5b08963')\"\n",
              "            title=\"Suggest charts\"\n",
              "            style=\"display:none;\">\n",
              "\n",
              "<svg xmlns=\"http://www.w3.org/2000/svg\" height=\"24px\"viewBox=\"0 0 24 24\"\n",
              "     width=\"24px\">\n",
              "    <g>\n",
              "        <path d=\"M19 3H5c-1.1 0-2 .9-2 2v14c0 1.1.9 2 2 2h14c1.1 0 2-.9 2-2V5c0-1.1-.9-2-2-2zM9 17H7v-7h2v7zm4 0h-2V7h2v10zm4 0h-2v-4h2v4z\"/>\n",
              "    </g>\n",
              "</svg>\n",
              "  </button>\n",
              "\n",
              "<style>\n",
              "  .colab-df-quickchart {\n",
              "      --bg-color: #E8F0FE;\n",
              "      --fill-color: #1967D2;\n",
              "      --hover-bg-color: #E2EBFA;\n",
              "      --hover-fill-color: #174EA6;\n",
              "      --disabled-fill-color: #AAA;\n",
              "      --disabled-bg-color: #DDD;\n",
              "  }\n",
              "\n",
              "  [theme=dark] .colab-df-quickchart {\n",
              "      --bg-color: #3B4455;\n",
              "      --fill-color: #D2E3FC;\n",
              "      --hover-bg-color: #434B5C;\n",
              "      --hover-fill-color: #FFFFFF;\n",
              "      --disabled-bg-color: #3B4455;\n",
              "      --disabled-fill-color: #666;\n",
              "  }\n",
              "\n",
              "  .colab-df-quickchart {\n",
              "    background-color: var(--bg-color);\n",
              "    border: none;\n",
              "    border-radius: 50%;\n",
              "    cursor: pointer;\n",
              "    display: none;\n",
              "    fill: var(--fill-color);\n",
              "    height: 32px;\n",
              "    padding: 0;\n",
              "    width: 32px;\n",
              "  }\n",
              "\n",
              "  .colab-df-quickchart:hover {\n",
              "    background-color: var(--hover-bg-color);\n",
              "    box-shadow: 0 1px 2px rgba(60, 64, 67, 0.3), 0 1px 3px 1px rgba(60, 64, 67, 0.15);\n",
              "    fill: var(--button-hover-fill-color);\n",
              "  }\n",
              "\n",
              "  .colab-df-quickchart-complete:disabled,\n",
              "  .colab-df-quickchart-complete:disabled:hover {\n",
              "    background-color: var(--disabled-bg-color);\n",
              "    fill: var(--disabled-fill-color);\n",
              "    box-shadow: none;\n",
              "  }\n",
              "\n",
              "  .colab-df-spinner {\n",
              "    border: 2px solid var(--fill-color);\n",
              "    border-color: transparent;\n",
              "    border-bottom-color: var(--fill-color);\n",
              "    animation:\n",
              "      spin 1s steps(1) infinite;\n",
              "  }\n",
              "\n",
              "  @keyframes spin {\n",
              "    0% {\n",
              "      border-color: transparent;\n",
              "      border-bottom-color: var(--fill-color);\n",
              "      border-left-color: var(--fill-color);\n",
              "    }\n",
              "    20% {\n",
              "      border-color: transparent;\n",
              "      border-left-color: var(--fill-color);\n",
              "      border-top-color: var(--fill-color);\n",
              "    }\n",
              "    30% {\n",
              "      border-color: transparent;\n",
              "      border-left-color: var(--fill-color);\n",
              "      border-top-color: var(--fill-color);\n",
              "      border-right-color: var(--fill-color);\n",
              "    }\n",
              "    40% {\n",
              "      border-color: transparent;\n",
              "      border-right-color: var(--fill-color);\n",
              "      border-top-color: var(--fill-color);\n",
              "    }\n",
              "    60% {\n",
              "      border-color: transparent;\n",
              "      border-right-color: var(--fill-color);\n",
              "    }\n",
              "    80% {\n",
              "      border-color: transparent;\n",
              "      border-right-color: var(--fill-color);\n",
              "      border-bottom-color: var(--fill-color);\n",
              "    }\n",
              "    90% {\n",
              "      border-color: transparent;\n",
              "      border-bottom-color: var(--fill-color);\n",
              "    }\n",
              "  }\n",
              "</style>\n",
              "\n",
              "  <script>\n",
              "    async function quickchart(key) {\n",
              "      const quickchartButtonEl =\n",
              "        document.querySelector('#' + key + ' button');\n",
              "      quickchartButtonEl.disabled = true;  // To prevent multiple clicks.\n",
              "      quickchartButtonEl.classList.add('colab-df-spinner');\n",
              "      try {\n",
              "        const charts = await google.colab.kernel.invokeFunction(\n",
              "            'suggestCharts', [key], {});\n",
              "      } catch (error) {\n",
              "        console.error('Error during call to suggestCharts:', error);\n",
              "      }\n",
              "      quickchartButtonEl.classList.remove('colab-df-spinner');\n",
              "      quickchartButtonEl.classList.add('colab-df-quickchart-complete');\n",
              "    }\n",
              "    (() => {\n",
              "      let quickchartButtonEl =\n",
              "        document.querySelector('#df-f1cf4d54-b7e5-4971-8432-5fcff5b08963 button');\n",
              "      quickchartButtonEl.style.display =\n",
              "        google.colab.kernel.accessAllowed ? 'block' : 'none';\n",
              "    })();\n",
              "  </script>\n",
              "</div>\n",
              "\n",
              "  <div id=\"id_f850bdb1-3a41-417f-b597-d16614c0b3a7\">\n",
              "    <style>\n",
              "      .colab-df-generate {\n",
              "        background-color: #E8F0FE;\n",
              "        border: none;\n",
              "        border-radius: 50%;\n",
              "        cursor: pointer;\n",
              "        display: none;\n",
              "        fill: #1967D2;\n",
              "        height: 32px;\n",
              "        padding: 0 0 0 0;\n",
              "        width: 32px;\n",
              "      }\n",
              "\n",
              "      .colab-df-generate:hover {\n",
              "        background-color: #E2EBFA;\n",
              "        box-shadow: 0px 1px 2px rgba(60, 64, 67, 0.3), 0px 1px 3px 1px rgba(60, 64, 67, 0.15);\n",
              "        fill: #174EA6;\n",
              "      }\n",
              "\n",
              "      [theme=dark] .colab-df-generate {\n",
              "        background-color: #3B4455;\n",
              "        fill: #D2E3FC;\n",
              "      }\n",
              "\n",
              "      [theme=dark] .colab-df-generate:hover {\n",
              "        background-color: #434B5C;\n",
              "        box-shadow: 0px 1px 3px 1px rgba(0, 0, 0, 0.15);\n",
              "        filter: drop-shadow(0px 1px 2px rgba(0, 0, 0, 0.3));\n",
              "        fill: #FFFFFF;\n",
              "      }\n",
              "    </style>\n",
              "    <button class=\"colab-df-generate\" onclick=\"generateWithVariable('df_estrutura')\"\n",
              "            title=\"Generate code using this dataframe.\"\n",
              "            style=\"display:none;\">\n",
              "\n",
              "  <svg xmlns=\"http://www.w3.org/2000/svg\" height=\"24px\"viewBox=\"0 0 24 24\"\n",
              "       width=\"24px\">\n",
              "    <path d=\"M7,19H8.4L18.45,9,17,7.55,7,17.6ZM5,21V16.75L18.45,3.32a2,2,0,0,1,2.83,0l1.4,1.43a1.91,1.91,0,0,1,.58,1.4,1.91,1.91,0,0,1-.58,1.4L9.25,21ZM18.45,9,17,7.55Zm-12,3A5.31,5.31,0,0,0,4.9,8.1,5.31,5.31,0,0,0,1,6.5,5.31,5.31,0,0,0,4.9,4.9,5.31,5.31,0,0,0,6.5,1,5.31,5.31,0,0,0,8.1,4.9,5.31,5.31,0,0,0,12,6.5,5.46,5.46,0,0,0,6.5,12Z\"/>\n",
              "  </svg>\n",
              "    </button>\n",
              "    <script>\n",
              "      (() => {\n",
              "      const buttonEl =\n",
              "        document.querySelector('#id_f850bdb1-3a41-417f-b597-d16614c0b3a7 button.colab-df-generate');\n",
              "      buttonEl.style.display =\n",
              "        google.colab.kernel.accessAllowed ? 'block' : 'none';\n",
              "\n",
              "      buttonEl.onclick = () => {\n",
              "        google.colab.notebook.generateWithVariable('df_estrutura');\n",
              "      }\n",
              "      })();\n",
              "    </script>\n",
              "  </div>\n",
              "\n",
              "    </div>\n",
              "  </div>\n"
            ],
            "application/vnd.google.colaboratory.intrinsic+json": {
              "type": "dataframe",
              "variable_name": "df_estrutura",
              "summary": "{\n  \"name\": \"df_estrutura\",\n  \"rows\": 31,\n  \"fields\": [\n    {\n      \"column\": \"Tabela\",\n      \"properties\": {\n        \"dtype\": \"category\",\n        \"num_unique_values\": 5,\n        \"samples\": [\n          \"geometry_columns\",\n          \"conservation_units\",\n          \"spatial_ref_sys\"\n        ],\n        \"semantic_type\": \"\",\n        \"description\": \"\"\n      }\n    },\n    {\n      \"column\": \"Coluna\",\n      \"properties\": {\n        \"dtype\": \"string\",\n        \"num_unique_values\": 20,\n        \"samples\": [\n          \"coord_dimension\",\n          \"grupo\",\n          \"nome\"\n        ],\n        \"semantic_type\": \"\",\n        \"description\": \"\"\n      }\n    },\n    {\n      \"column\": \"Tipo de Dado\",\n      \"properties\": {\n        \"dtype\": \"category\",\n        \"num_unique_values\": 6,\n        \"samples\": [\n          \"integer\",\n          \"text\",\n          \"USER-DEFINED\"\n        ],\n        \"semantic_type\": \"\",\n        \"description\": \"\"\n      }\n    }\n  ]\n}"
            }
          },
          "metadata": {},
          "execution_count": 77
        }
      ]
    },
    {
      "cell_type": "markdown",
      "source": [
        "Instalação do PostgreSQL e PostGIS no ambiente do Google Colab.\n",
        "Criação do banco de dados deltadb e ativação da extensão PostGIS.\n",
        "Conexão ao banco de dados usando psycopg2 e verificação da versão do PostgreSQL.\n",
        "Criação da tabela area_estudo, contendo:\n",
        "id (chave primária)\n",
        "nome (nome da área de estudo)\n",
        "geom (geometria do tipo MULTIPOLYGON, EPSG: 4326)\n",
        "Importação do shapefile area_de_estudo.shp para a tabela area_estudo.\n",
        "Correção da estrutura da tabela:\n",
        "Ajuste do nome da coluna de geometria (wkb_geometry).\n",
        "Inclusão da coluna nome.\n",
        "Cálculo da área total da área de estudo: 60986.26 km².\n",
        "Criação da tabela conservation_units para armazenar as Unidades de Conservação, contendo:\n",
        "id (chave primária)\n",
        "nome\n",
        "categoria\n",
        "grupo\n",
        "esfera\n",
        "ano_cria\n",
        "wkb_geometry (geometria do tipo MULTIPOLYGON, EPSG: 4326)\n",
        "Correção de erro na importação dos dados das Unidades de Conservação, pois inicialmente a geometria estava como POLYGON, sendo alterada para MULTIPOLYGON.\n",
        "Importação dos dados das Unidades de Conservação (conservation_units_amazon_biome.shp) para a tabela conservation_units.\n",
        "Contagem dos registros na tabela conservation_units: 304 registros.\n",
        "Cálculo da interseção entre Unidades de Conservação e a área de estudo:\n",
        "Número de polígonos que intersectam: 8\n",
        "Área total dentro da área de estudo: 19199.65 km² (31.48% do total)\n",
        "Exportação dos polígonos que intersectam a área de estudo como um novo shapefile unidades_conservacao_intersectadas.shp."
      ],
      "metadata": {
        "id": "nLLWiZyWIS8W"
      }
    },
    {
      "cell_type": "code",
      "source": [],
      "metadata": {
        "id": "ayAuQkHlS4mh"
      },
      "execution_count": null,
      "outputs": []
    }
  ]
}